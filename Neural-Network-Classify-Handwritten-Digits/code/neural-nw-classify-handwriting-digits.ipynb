{
 "cells": [
  {
   "cell_type": "markdown",
   "id": "38e0bdd9-6981-4cd0-9274-ea9e3949e20b",
   "metadata": {},
   "source": [
    "#### Week 11\n",
    "#### DSC-550 Data Mining\n",
    "#### Swapnil Chavan\n",
    "#### 05/26/2024"
   ]
  },
  {
   "cell_type": "markdown",
   "id": "13c6303e-f12f-4316-8fb6-01f4f3e61dc2",
   "metadata": {},
   "source": [
    "In this exercise, you will build a convolutional neural network (CNN) to classify handwritten digits from the MNIST dataset. The steps to build a CNN classifier are outlined in section 20.15 of the Machine Learning with Python Cookbook, but keep in mind that your code may need to be modified depending on your version of Keras."
   ]
  },
  {
   "cell_type": "markdown",
   "id": "4b377ef0-d058-49f9-9bfc-6466887d5027",
   "metadata": {},
   "source": [
    "***1. Load the MNIST data set.***"
   ]
  },
  {
   "cell_type": "code",
   "execution_count": 1,
   "id": "2049644c-d223-4186-9256-ef84764ba300",
   "metadata": {},
   "outputs": [],
   "source": [
    "import torch"
   ]
  },
  {
   "cell_type": "code",
   "execution_count": 2,
   "id": "bd0ea0bf-6039-4762-ac9f-7a7dc32ba2fd",
   "metadata": {},
   "outputs": [
    {
     "data": {
      "text/plain": [
       "device(type='cpu')"
      ]
     },
     "execution_count": 2,
     "metadata": {},
     "output_type": "execute_result"
    }
   ],
   "source": [
    "device = torch.device('cuda' if torch.cuda.is_available() else 'cpu')\n",
    "device"
   ]
  },
  {
   "cell_type": "code",
   "execution_count": 3,
   "id": "31fbf6a2-da82-4158-9efa-36ab3272bbe2",
   "metadata": {},
   "outputs": [
    {
     "name": "stdout",
     "output_type": "stream",
     "text": [
      "Downloading http://yann.lecun.com/exdb/mnist/train-images-idx3-ubyte.gz\n",
      "Failed to download (trying next):\n",
      "HTTP Error 403: Forbidden\n",
      "\n",
      "Downloading https://ossci-datasets.s3.amazonaws.com/mnist/train-images-idx3-ubyte.gz\n",
      "Downloading https://ossci-datasets.s3.amazonaws.com/mnist/train-images-idx3-ubyte.gz to data\\MNIST\\raw\\train-images-idx3-ubyte.gz\n"
     ]
    },
    {
     "name": "stderr",
     "output_type": "stream",
     "text": [
      "100%|███████████████████████████████████████████████████████████████████| 9912422/9912422 [00:01<00:00, 9840160.48it/s]\n"
     ]
    },
    {
     "name": "stdout",
     "output_type": "stream",
     "text": [
      "Extracting data\\MNIST\\raw\\train-images-idx3-ubyte.gz to data\\MNIST\\raw\n",
      "\n",
      "Downloading http://yann.lecun.com/exdb/mnist/train-labels-idx1-ubyte.gz\n",
      "Failed to download (trying next):\n",
      "HTTP Error 403: Forbidden\n",
      "\n",
      "Downloading https://ossci-datasets.s3.amazonaws.com/mnist/train-labels-idx1-ubyte.gz\n",
      "Downloading https://ossci-datasets.s3.amazonaws.com/mnist/train-labels-idx1-ubyte.gz to data\\MNIST\\raw\\train-labels-idx1-ubyte.gz\n"
     ]
    },
    {
     "name": "stderr",
     "output_type": "stream",
     "text": [
      "100%|████████████████████████████████████████████████████████████████████████| 28881/28881 [00:00<00:00, 453118.13it/s]\n"
     ]
    },
    {
     "name": "stdout",
     "output_type": "stream",
     "text": [
      "Extracting data\\MNIST\\raw\\train-labels-idx1-ubyte.gz to data\\MNIST\\raw\n",
      "\n",
      "Downloading http://yann.lecun.com/exdb/mnist/t10k-images-idx3-ubyte.gz\n",
      "Failed to download (trying next):\n",
      "HTTP Error 403: Forbidden\n",
      "\n",
      "Downloading https://ossci-datasets.s3.amazonaws.com/mnist/t10k-images-idx3-ubyte.gz\n",
      "Downloading https://ossci-datasets.s3.amazonaws.com/mnist/t10k-images-idx3-ubyte.gz to data\\MNIST\\raw\\t10k-images-idx3-ubyte.gz\n"
     ]
    },
    {
     "name": "stderr",
     "output_type": "stream",
     "text": [
      "100%|███████████████████████████████████████████████████████████████████| 1648877/1648877 [00:00<00:00, 1859230.54it/s]\n"
     ]
    },
    {
     "name": "stdout",
     "output_type": "stream",
     "text": [
      "Extracting data\\MNIST\\raw\\t10k-images-idx3-ubyte.gz to data\\MNIST\\raw\n",
      "\n",
      "Downloading http://yann.lecun.com/exdb/mnist/t10k-labels-idx1-ubyte.gz\n",
      "Failed to download (trying next):\n",
      "HTTP Error 403: Forbidden\n",
      "\n",
      "Downloading https://ossci-datasets.s3.amazonaws.com/mnist/t10k-labels-idx1-ubyte.gz\n",
      "Downloading https://ossci-datasets.s3.amazonaws.com/mnist/t10k-labels-idx1-ubyte.gz to data\\MNIST\\raw\\t10k-labels-idx1-ubyte.gz\n"
     ]
    },
    {
     "name": "stderr",
     "output_type": "stream",
     "text": [
      "100%|█████████████████████████████████████████████████████████████████████████| 4542/4542 [00:00<00:00, 4551010.22it/s]\n"
     ]
    },
    {
     "name": "stdout",
     "output_type": "stream",
     "text": [
      "Extracting data\\MNIST\\raw\\t10k-labels-idx1-ubyte.gz to data\\MNIST\\raw\n",
      "\n"
     ]
    }
   ],
   "source": [
    "from torchvision import datasets\n",
    "from torchvision.transforms import ToTensor\n",
    "train_data = datasets.MNIST(\n",
    "    root = 'data',\n",
    "    train = True,                         \n",
    "    transform = ToTensor(), \n",
    "    download = True,            \n",
    ")\n",
    "test_data = datasets.MNIST(\n",
    "    root = 'data', \n",
    "    train = False, \n",
    "    transform = ToTensor()\n",
    ")"
   ]
  },
  {
   "cell_type": "code",
   "execution_count": 4,
   "id": "f246058f-86d8-4d8b-abf5-b2846b315618",
   "metadata": {},
   "outputs": [
    {
     "name": "stdout",
     "output_type": "stream",
     "text": [
      "Dataset MNIST\n",
      "    Number of datapoints: 60000\n",
      "    Root location: data\n",
      "    Split: Train\n",
      "    StandardTransform\n",
      "Transform: ToTensor()\n"
     ]
    }
   ],
   "source": [
    "print(train_data)"
   ]
  },
  {
   "cell_type": "code",
   "execution_count": 5,
   "id": "5eea7068-78f3-474d-a8ca-1aa07b0f8e39",
   "metadata": {},
   "outputs": [
    {
     "name": "stdout",
     "output_type": "stream",
     "text": [
      "Dataset MNIST\n",
      "    Number of datapoints: 10000\n",
      "    Root location: data\n",
      "    Split: Test\n",
      "    StandardTransform\n",
      "Transform: ToTensor()\n"
     ]
    }
   ],
   "source": [
    "print(test_data)"
   ]
  },
  {
   "cell_type": "markdown",
   "id": "caa5964e-ebe1-449b-9563-f38c6b20f26f",
   "metadata": {},
   "source": [
    "***2. Display the first five images in the training data set (see section 8.1 in the Machine Learning with Python Cookbook). Compare these to the first five training labels.***"
   ]
  },
  {
   "cell_type": "code",
   "execution_count": 6,
   "id": "e40d37b6-e2c1-4153-92cc-49e84c0f0107",
   "metadata": {},
   "outputs": [],
   "source": [
    "import matplotlib.pyplot as plt"
   ]
  },
  {
   "cell_type": "code",
   "execution_count": 7,
   "id": "bb73e34c-d9c4-42fe-bcaf-da889feb3f0c",
   "metadata": {},
   "outputs": [
    {
     "data": {
      "image/png": "[encoded data removed]",
      "text/plain": [
       "<Figure size 1000x800 with 25 Axes>"
      ]
     },
     "metadata": {},
     "output_type": "display_data"
    }
   ],
   "source": [
    "figure = plt.figure(figsize=(10, 8))\n",
    "cols, rows = 5, 5\n",
    "for i in range(1, cols * rows + 1):\n",
    "    sample_idx = torch.randint(len(train_data), size=(1,)).item()\n",
    "    img, label = train_data[sample_idx]\n",
    "    figure.add_subplot(rows, cols, i)\n",
    "    plt.title(label)\n",
    "    plt.axis(\"off\")\n",
    "    plt.imshow(img.squeeze(), cmap=\"gray\")\n",
    "plt.show()"
   ]
  },
  {
   "cell_type": "markdown",
   "id": "ef8cce46-d36c-424f-b167-313b40c381bd",
   "metadata": {},
   "source": [
    "***3. Build and train a Keras CNN classifier on the MNIST training set.***"
   ]
  },
  {
   "cell_type": "markdown",
   "id": "cdb9cfc7-e184-40c9-b0e9-11bd7406c882",
   "metadata": {},
   "source": [
    "The Dataset retrieves our dataset’s features and labels one sample at a time. While training a model, we typically want to pass samples in “minibatches”, reshuffle the data at every epoch to reduce model overfitting, and use Python’s multiprocessing to speed up data retrieval.\n",
    "\n",
    "DataLoader is an iterable that abstracts this complexity for us in an easy API."
   ]
  },
  {
   "cell_type": "markdown",
   "id": "f6f9ef55-97fb-4f39-94c2-fefad34825b9",
   "metadata": {},
   "source": [
    "Let's load the data "
   ]
  },
  {
   "cell_type": "code",
   "execution_count": 8,
   "id": "4cb42c78-eeb0-4965-b2cd-37684f68aded",
   "metadata": {},
   "outputs": [
    {
     "data": {
      "text/plain": [
       "{'train': <torch.utils.data.dataloader.DataLoader at 0x265c0ca95b0>,\n",
       " 'test': <torch.utils.data.dataloader.DataLoader at 0x265c0c19c10>}"
      ]
     },
     "execution_count": 8,
     "metadata": {},
     "output_type": "execute_result"
    }
   ],
   "source": [
    "from torch.utils.data import DataLoader\n",
    "loaders = {\n",
    "    'train' : torch.utils.data.DataLoader(train_data, \n",
    "                                          batch_size=100, \n",
    "                                          shuffle=True, \n",
    "                                          num_workers=1),\n",
    "    \n",
    "    'test'  : torch.utils.data.DataLoader(test_data, \n",
    "                                          batch_size=100, \n",
    "                                          shuffle=True, \n",
    "                                          num_workers=1),\n",
    "}\n",
    "loaders"
   ]
  },
  {
   "cell_type": "markdown",
   "id": "cd0c0271-0636-41cd-9deb-3f5b8896b693",
   "metadata": {},
   "source": [
    "Let us create convolution neural network using torch.nn.Module. torch.nn.Module will be base class for all neural network modules. We will use 2 fully convolutional layers, Relu activation function and MaxPooling."
   ]
  },
  {
   "cell_type": "code",
   "execution_count": 9,
   "id": "2435554e-7717-487b-994b-9ca2a7ddd9a9",
   "metadata": {},
   "outputs": [],
   "source": [
    "import torch.nn as nn\n",
    "class CNN(nn.Module):\n",
    "    def __init__(self):\n",
    "        super(CNN, self).__init__()\n",
    "        self.conv1 = nn.Sequential(         \n",
    "            nn.Conv2d(\n",
    "                in_channels=1,              \n",
    "                out_channels=16,            \n",
    "                kernel_size=5,              \n",
    "                stride=1,                   \n",
    "                padding=2,                  \n",
    "            ),                              \n",
    "            nn.ReLU(),                      \n",
    "            nn.MaxPool2d(kernel_size=2),    \n",
    "        )\n",
    "        self.conv2 = nn.Sequential(         \n",
    "            nn.Conv2d(16, 32, 5, 1, 2),     \n",
    "            nn.ReLU(),                      \n",
    "            nn.MaxPool2d(2),                \n",
    "        )\n",
    "        # fully connected layer, output 10 classes\n",
    "        self.out = nn.Linear(32 * 7 * 7, 10)\n",
    "    def forward(self, x):\n",
    "        x = self.conv1(x)\n",
    "        x = self.conv2(x)\n",
    "        # flatten the output of conv2 to (batch_size, 32 * 7 * 7)\n",
    "        x = x.view(x.size(0), -1)       \n",
    "        output = self.out(x)\n",
    "        return output, x    # return x for visualization"
   ]
  },
  {
   "cell_type": "code",
   "execution_count": 10,
   "id": "20584540-dca4-4532-9ada-6458b50365b3",
   "metadata": {},
   "outputs": [
    {
     "name": "stdout",
     "output_type": "stream",
     "text": [
      "CNN(\n",
      "  (conv1): Sequential(\n",
      "    (0): Conv2d(1, 16, kernel_size=(5, 5), stride=(1, 1), padding=(2, 2))\n",
      "    (1): ReLU()\n",
      "    (2): MaxPool2d(kernel_size=2, stride=2, padding=0, dilation=1, ceil_mode=False)\n",
      "  )\n",
      "  (conv2): Sequential(\n",
      "    (0): Conv2d(16, 32, kernel_size=(5, 5), stride=(1, 1), padding=(2, 2))\n",
      "    (1): ReLU()\n",
      "    (2): MaxPool2d(kernel_size=2, stride=2, padding=0, dilation=1, ceil_mode=False)\n",
      "  )\n",
      "  (out): Linear(in_features=1568, out_features=10, bias=True)\n",
      ")\n"
     ]
    }
   ],
   "source": [
    "cnn = CNN()\n",
    "print(cnn)"
   ]
  },
  {
   "cell_type": "markdown",
   "id": "43dd90ec-a083-4829-b040-4e1f5fdd9673",
   "metadata": {},
   "source": [
    "***Loss Function***"
   ]
  },
  {
   "cell_type": "code",
   "execution_count": 11,
   "id": "44e2637f-31f8-417e-aaa9-b8fcd20699ad",
   "metadata": {},
   "outputs": [
    {
     "data": {
      "text/plain": [
       "CrossEntropyLoss()"
      ]
     },
     "execution_count": 11,
     "metadata": {},
     "output_type": "execute_result"
    }
   ],
   "source": [
    "loss_func = nn.CrossEntropyLoss()   \n",
    "loss_func"
   ]
  },
  {
   "cell_type": "markdown",
   "id": "a02dbfad-1fdf-43c2-9f74-67fc908525f0",
   "metadata": {},
   "source": [
    "*** Optimization Function ***"
   ]
  },
  {
   "cell_type": "code",
   "execution_count": 12,
   "id": "8a2b2ecc-381b-4551-b8a7-9f3324d180ff",
   "metadata": {},
   "outputs": [
    {
     "data": {
      "text/plain": [
       "Adam (\n",
       "Parameter Group 0\n",
       "    amsgrad: False\n",
       "    betas: (0.9, 0.999)\n",
       "    capturable: False\n",
       "    differentiable: False\n",
       "    eps: 1e-08\n",
       "    foreach: None\n",
       "    fused: None\n",
       "    lr: 0.01\n",
       "    maximize: False\n",
       "    weight_decay: 0\n",
       ")"
      ]
     },
     "execution_count": 12,
     "metadata": {},
     "output_type": "execute_result"
    }
   ],
   "source": [
    "from torch import optim\n",
    "optimizer = optim.Adam(cnn.parameters(), lr = 0.01)   \n",
    "optimizer"
   ]
  },
  {
   "cell_type": "markdown",
   "id": "eaab1a6e-52c7-4c92-ac2a-ca913e8378c2",
   "metadata": {},
   "source": [
    "***Train The Model***"
   ]
  },
  {
   "cell_type": "code",
   "execution_count": 20,
   "id": "55ce000a-c218-4967-97f1-83d7aba0cd1d",
   "metadata": {},
   "outputs": [
    {
     "name": "stdout",
     "output_type": "stream",
     "text": [
      "Epoch [1/10], Step [100/600], Loss: 0.0627\n",
      "Epoch [1/10], Step [200/600], Loss: 0.0529\n",
      "Epoch [1/10], Step [300/600], Loss: 0.0887\n",
      "Epoch [1/10], Step [400/600], Loss: 0.0157\n",
      "Epoch [1/10], Step [500/600], Loss: 0.0298\n",
      "Epoch [1/10], Step [600/600], Loss: 0.1287\n",
      "Epoch [2/10], Step [100/600], Loss: 0.1521\n",
      "Epoch [2/10], Step [200/600], Loss: 0.0592\n",
      "Epoch [2/10], Step [300/600], Loss: 0.0908\n",
      "Epoch [2/10], Step [400/600], Loss: 0.0347\n",
      "Epoch [2/10], Step [500/600], Loss: 0.0826\n",
      "Epoch [2/10], Step [600/600], Loss: 0.0168\n",
      "Epoch [3/10], Step [100/600], Loss: 0.0117\n",
      "Epoch [3/10], Step [200/600], Loss: 0.0734\n",
      "Epoch [3/10], Step [300/600], Loss: 0.0091\n",
      "Epoch [3/10], Step [400/600], Loss: 0.0087\n",
      "Epoch [3/10], Step [500/600], Loss: 0.0264\n",
      "Epoch [3/10], Step [600/600], Loss: 0.0101\n",
      "Epoch [4/10], Step [100/600], Loss: 0.0390\n",
      "Epoch [4/10], Step [200/600], Loss: 0.1538\n",
      "Epoch [4/10], Step [300/600], Loss: 0.0179\n",
      "Epoch [4/10], Step [400/600], Loss: 0.0419\n",
      "Epoch [4/10], Step [500/600], Loss: 0.0150\n",
      "Epoch [4/10], Step [600/600], Loss: 0.0208\n",
      "Epoch [5/10], Step [100/600], Loss: 0.0498\n",
      "Epoch [5/10], Step [200/600], Loss: 0.1003\n",
      "Epoch [5/10], Step [300/600], Loss: 0.0554\n",
      "Epoch [5/10], Step [400/600], Loss: 0.0572\n",
      "Epoch [5/10], Step [500/600], Loss: 0.0293\n",
      "Epoch [5/10], Step [600/600], Loss: 0.0344\n",
      "Epoch [6/10], Step [100/600], Loss: 0.0155\n",
      "Epoch [6/10], Step [200/600], Loss: 0.0375\n",
      "Epoch [6/10], Step [300/600], Loss: 0.0421\n",
      "Epoch [6/10], Step [400/600], Loss: 0.0152\n",
      "Epoch [6/10], Step [500/600], Loss: 0.0187\n",
      "Epoch [6/10], Step [600/600], Loss: 0.1453\n",
      "Epoch [7/10], Step [100/600], Loss: 0.0617\n",
      "Epoch [7/10], Step [200/600], Loss: 0.0095\n",
      "Epoch [7/10], Step [300/600], Loss: 0.0519\n",
      "Epoch [7/10], Step [400/600], Loss: 0.0770\n",
      "Epoch [7/10], Step [500/600], Loss: 0.0621\n",
      "Epoch [7/10], Step [600/600], Loss: 0.0128\n",
      "Epoch [8/10], Step [100/600], Loss: 0.0012\n",
      "Epoch [8/10], Step [200/600], Loss: 0.0272\n",
      "Epoch [8/10], Step [300/600], Loss: 0.0208\n",
      "Epoch [8/10], Step [400/600], Loss: 0.0888\n",
      "Epoch [8/10], Step [500/600], Loss: 0.0136\n",
      "Epoch [8/10], Step [600/600], Loss: 0.0283\n",
      "Epoch [9/10], Step [100/600], Loss: 0.0045\n",
      "Epoch [9/10], Step [200/600], Loss: 0.0433\n",
      "Epoch [9/10], Step [300/600], Loss: 0.0392\n",
      "Epoch [9/10], Step [400/600], Loss: 0.0710\n",
      "Epoch [9/10], Step [500/600], Loss: 0.0218\n",
      "Epoch [9/10], Step [600/600], Loss: 0.1291\n",
      "Epoch [10/10], Step [100/600], Loss: 0.0003\n",
      "Epoch [10/10], Step [200/600], Loss: 0.0076\n",
      "Epoch [10/10], Step [300/600], Loss: 0.0069\n",
      "Epoch [10/10], Step [400/600], Loss: 0.0145\n",
      "Epoch [10/10], Step [500/600], Loss: 0.1872\n",
      "Epoch [10/10], Step [600/600], Loss: 0.0411\n"
     ]
    }
   ],
   "source": [
    "from torch.autograd import Variable\n",
    "num_epochs = 10\n",
    "def train(num_epochs, cnn, loaders):\n",
    "    \n",
    "    cnn.train()\n",
    "        \n",
    "    # Train the model\n",
    "    total_step = len(loaders['train'])\n",
    "        \n",
    "    for epoch in range(num_epochs):\n",
    "        for i, (images, labels) in enumerate(loaders['train']):\n",
    "            \n",
    "            # gives batch data, normalize x when iterate train_loader\n",
    "            b_x = Variable(images)   # batch x\n",
    "            b_y = Variable(labels)   # batch y\n",
    "            output = cnn(b_x)[0]               \n",
    "            loss = loss_func(output, b_y)\n",
    "            \n",
    "            # clear gradients for this training step   \n",
    "            optimizer.zero_grad()           \n",
    "            \n",
    "            # backpropagation, compute gradients \n",
    "            loss.backward()    \n",
    "            # apply gradients             \n",
    "            optimizer.step()                \n",
    "            \n",
    "            if (i+1) % 100 == 0:\n",
    "                print ('Epoch [{}/{}], Step [{}/{}], Loss: {:.4f}' .format(epoch + 1, num_epochs, i + 1, total_step, loss.item()))\n",
    "                pass\n",
    "        \n",
    "            pass\n",
    "    \n",
    "        pass\n",
    "train(num_epochs, cnn, loaders)"
   ]
  },
  {
   "cell_type": "markdown",
   "id": "94c48d1e-d065-44a1-abd0-1688134a21f3",
   "metadata": {},
   "source": [
    "***4. Report the test accuracy of your model***\n",
    "***5. Display a confusion matrix on the test set classifications.***"
   ]
  },
  {
   "cell_type": "code",
   "execution_count": 36,
   "id": "b9d1651e-352d-4edd-88ca-159fc0be869b",
   "metadata": {},
   "outputs": [
    {
     "name": "stdout",
     "output_type": "stream",
     "text": [
      "Accuracy of the model on the 10000 test images: 0.99\n"
     ]
    },
    {
     "data": {
      "image/png": "[encoded data removed]",
      "text/plain": [
       "<Figure size 640x480 with 1 Axes>"
      ]
     },
     "metadata": {},
     "output_type": "display_data"
    }
   ],
   "source": [
    "from torch import tensor\n",
    "def test():\n",
    "    # Test the model\n",
    "    cnn.eval()\n",
    "    with torch.no_grad():\n",
    "        correct = 0\n",
    "        total = 0\n",
    "        for images, labels in loaders['test']:\n",
    "            test_output, last_layer = cnn(images)\n",
    "            pred_y = torch.max(test_output, 1)[1].data.squeeze()\n",
    "            accuracy = (pred_y == labels).sum().item() / float(labels.size(0))\n",
    "            pass\n",
    "        \n",
    "        metric = MulticlassConfusionMatrix(num_classes=10)\n",
    "        metric.update(pred_y, labels)\n",
    "        fig_, ax_ = metric.plot()\n",
    "        \n",
    "        print('Accuracy of the model on the 10000 test images: %.2f' % accuracy)\n",
    "\n",
    "   \n",
    "    pass\n",
    "    \n",
    "\n",
    "test()"
   ]
  },
  {
   "cell_type": "markdown",
   "id": "4a175e0e-0076-4042-857c-23d589d997b3",
   "metadata": {},
   "source": [
    "***6. Summarize your results***"
   ]
  },
  {
   "cell_type": "markdown",
   "id": "fd0847b6-41ee-4e89-87fb-05ac3098a1a7",
   "metadata": {},
   "source": [
    "Perfromed step 4 and 5 together, the accuracy at the last iteration is 99%. And the confusion matrix is displaying the same thing. Confusion Matrix is also dispalying the result at the last iteration with 100 images."
   ]
  },
  {
   "cell_type": "markdown",
   "id": "77c89e03-55f9-4b09-ba5c-54b586b48b29",
   "metadata": {},
   "source": [
    "Out of the 100 images in the last iteration, 1 time the model failed to predict the number. Actual number is 8 where as the model predicted it as 6. "
   ]
  },
  {
   "cell_type": "code",
   "execution_count": null,
   "id": "444f0cea-38db-4e0d-b287-03dce4afea55",
   "metadata": {},
   "outputs": [],
   "source": []
  }
 ],
 "metadata": {
  "kernelspec": {
   "display_name": "Python 3 (ipykernel)",
   "language": "python",
   "name": "python3"
  },
  "language_info": {
   "codemirror_mode": {
    "name": "ipython",
    "version": 3
   },
   "file_extension": ".py",
   "mimetype": "text/x-python",
   "name": "python",
   "nbconvert_exporter": "python",
   "pygments_lexer": "ipython3",
   "version": "3.12.3"
  }
 },
 "nbformat": 4,
 "nbformat_minor": 5
}
