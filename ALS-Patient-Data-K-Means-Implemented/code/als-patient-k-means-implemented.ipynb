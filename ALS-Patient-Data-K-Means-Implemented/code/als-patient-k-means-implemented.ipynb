{
 "cells": [
  {
   "cell_type": "markdown",
   "id": "7ae00dd6-7800-4772-9332-39b55d3e8fad",
   "metadata": {},
   "source": [
   ]
  },
  {
   "cell_type": "markdown",
   "id": "298ecfe0-f34c-4994-87e5-bdc008ed4141",
   "metadata": {},
   "source": [
    "#### Problem Statement"
   ]
  },
  {
   "cell_type": "markdown",
   "id": "70c77e07-99ad-4d1f-b42f-469dafc226ab",
   "metadata": {},
   "source": [
    "You will be using the dataset als_data.csv to apply clustering methods for this assignment. This data gives anonymized data on ALS patients. With this data, complete the following steps:"
   ]
  },
  {
   "cell_type": "markdown",
   "id": "062c88bb-44fa-483d-9089-5f1484356e97",
   "metadata": {},
   "source": [
    "* Remove any data that is not relevant to the patient’s ALS condition.\n",
    "* Apply a standard scalar to the data.\n",
    "* Create a plot of the cluster silhouette score versus the number of clusters in a K-means cluster.\n",
    "* Use the plot created in (3) to choose on optimal number of clusters for K-means. Justify your choice.\n",
    "* Fit a K-means model to the data with the optimal number of clusters chosen in part (4).\n",
    "* Fit a PCA transformation with two features to the scaled data.\n",
    "* Make a scatterplot the PCA transformed data coloring each point by its cluster value.\n",
    "* Summarize your results and make a conclusion."
   ]
  },
  {
   "cell_type": "markdown",
   "id": "9ed7b5e8-82f3-488e-a0d4-104dc6571941",
   "metadata": {},
   "source": [
    "I will work on each of these bullet points one by one. Before starting on these bullet points the important step is to include the required libaries and read the data into a dataframe"
   ]
  },
  {
   "cell_type": "code",
   "execution_count": 1,
   "id": "9efd8a7d-829f-422d-a5a8-c85361690361",
   "metadata": {},
   "outputs": [],
   "source": [
    "import pandas as pd"
   ]
  },
  {
   "cell_type": "code",
   "execution_count": 2,
   "id": "1735635b-09b1-4934-a7cb-c40aa3e71e93",
   "metadata": {},
   "outputs": [],
   "source": [
    "df = pd.read_csv(\"als_data.csv\")"
   ]
  },
  {
   "cell_type": "code",
   "execution_count": 3,
   "id": "f2926e01-c220-4f09-9c87-a75dbfb5d916",
   "metadata": {},
   "outputs": [
    {
     "data": {
      "text/html": [
       "<div>\n",
       "<style scoped>\n",
       "    .dataframe tbody tr th:only-of-type {\n",
       "        vertical-align: middle;\n",
       "    }\n",
       "\n",
       "    .dataframe tbody tr th {\n",
       "        vertical-align: top;\n",
       "    }\n",
       "\n",
       "    .dataframe thead th {\n",
       "        text-align: right;\n",
       "    }\n",
       "</style>\n",
       "<table border=\"1\" class=\"dataframe\">\n",
       "  <thead>\n",
       "    <tr style=\"text-align: right;\">\n",
       "      <th></th>\n",
       "      <th>ID</th>\n",
       "      <th>Age_mean</th>\n",
       "      <th>Albumin_max</th>\n",
       "      <th>Albumin_median</th>\n",
       "      <th>Albumin_min</th>\n",
       "      <th>Albumin_range</th>\n",
       "      <th>ALSFRS_slope</th>\n",
       "      <th>ALSFRS_Total_max</th>\n",
       "      <th>ALSFRS_Total_median</th>\n",
       "      <th>ALSFRS_Total_min</th>\n",
       "      <th>...</th>\n",
       "      <th>Sodium_min</th>\n",
       "      <th>Sodium_range</th>\n",
       "      <th>SubjectID</th>\n",
       "      <th>trunk_max</th>\n",
       "      <th>trunk_median</th>\n",
       "      <th>trunk_min</th>\n",
       "      <th>trunk_range</th>\n",
       "      <th>Urine.Ph_max</th>\n",
       "      <th>Urine.Ph_median</th>\n",
       "      <th>Urine.Ph_min</th>\n",
       "    </tr>\n",
       "  </thead>\n",
       "  <tbody>\n",
       "    <tr>\n",
       "      <th>0</th>\n",
       "      <td>1</td>\n",
       "      <td>65</td>\n",
       "      <td>57.0</td>\n",
       "      <td>40.5</td>\n",
       "      <td>38.0</td>\n",
       "      <td>0.066202</td>\n",
       "      <td>-0.965608</td>\n",
       "      <td>30</td>\n",
       "      <td>28.0</td>\n",
       "      <td>22</td>\n",
       "      <td>...</td>\n",
       "      <td>143.0</td>\n",
       "      <td>0.017422</td>\n",
       "      <td>533</td>\n",
       "      <td>8</td>\n",
       "      <td>7.0</td>\n",
       "      <td>7</td>\n",
       "      <td>0.002646</td>\n",
       "      <td>6.0</td>\n",
       "      <td>6.0</td>\n",
       "      <td>6.0</td>\n",
       "    </tr>\n",
       "    <tr>\n",
       "      <th>1</th>\n",
       "      <td>2</td>\n",
       "      <td>48</td>\n",
       "      <td>45.0</td>\n",
       "      <td>41.0</td>\n",
       "      <td>39.0</td>\n",
       "      <td>0.010453</td>\n",
       "      <td>-0.921717</td>\n",
       "      <td>37</td>\n",
       "      <td>33.0</td>\n",
       "      <td>21</td>\n",
       "      <td>...</td>\n",
       "      <td>136.0</td>\n",
       "      <td>0.010453</td>\n",
       "      <td>649</td>\n",
       "      <td>8</td>\n",
       "      <td>7.0</td>\n",
       "      <td>5</td>\n",
       "      <td>0.005386</td>\n",
       "      <td>7.0</td>\n",
       "      <td>5.0</td>\n",
       "      <td>5.0</td>\n",
       "    </tr>\n",
       "    <tr>\n",
       "      <th>2</th>\n",
       "      <td>3</td>\n",
       "      <td>38</td>\n",
       "      <td>50.0</td>\n",
       "      <td>47.0</td>\n",
       "      <td>45.0</td>\n",
       "      <td>0.008929</td>\n",
       "      <td>-0.914787</td>\n",
       "      <td>24</td>\n",
       "      <td>14.0</td>\n",
       "      <td>10</td>\n",
       "      <td>...</td>\n",
       "      <td>140.0</td>\n",
       "      <td>0.008929</td>\n",
       "      <td>1234</td>\n",
       "      <td>5</td>\n",
       "      <td>0.0</td>\n",
       "      <td>0</td>\n",
       "      <td>0.008929</td>\n",
       "      <td>6.0</td>\n",
       "      <td>5.0</td>\n",
       "      <td>5.0</td>\n",
       "    </tr>\n",
       "    <tr>\n",
       "      <th>3</th>\n",
       "      <td>4</td>\n",
       "      <td>63</td>\n",
       "      <td>47.0</td>\n",
       "      <td>44.0</td>\n",
       "      <td>41.0</td>\n",
       "      <td>0.012111</td>\n",
       "      <td>-0.598361</td>\n",
       "      <td>30</td>\n",
       "      <td>29.0</td>\n",
       "      <td>24</td>\n",
       "      <td>...</td>\n",
       "      <td>138.0</td>\n",
       "      <td>0.012469</td>\n",
       "      <td>2492</td>\n",
       "      <td>5</td>\n",
       "      <td>5.0</td>\n",
       "      <td>3</td>\n",
       "      <td>0.004988</td>\n",
       "      <td>7.0</td>\n",
       "      <td>6.0</td>\n",
       "      <td>5.0</td>\n",
       "    </tr>\n",
       "    <tr>\n",
       "      <th>4</th>\n",
       "      <td>5</td>\n",
       "      <td>63</td>\n",
       "      <td>47.0</td>\n",
       "      <td>45.5</td>\n",
       "      <td>42.0</td>\n",
       "      <td>0.008292</td>\n",
       "      <td>-0.444039</td>\n",
       "      <td>32</td>\n",
       "      <td>27.5</td>\n",
       "      <td>20</td>\n",
       "      <td>...</td>\n",
       "      <td>138.0</td>\n",
       "      <td>0.008292</td>\n",
       "      <td>2956</td>\n",
       "      <td>6</td>\n",
       "      <td>4.0</td>\n",
       "      <td>1</td>\n",
       "      <td>0.008489</td>\n",
       "      <td>6.0</td>\n",
       "      <td>5.0</td>\n",
       "      <td>5.0</td>\n",
       "    </tr>\n",
       "  </tbody>\n",
       "</table>\n",
       "<p>5 rows × 101 columns</p>\n",
       "</div>"
      ],
      "text/plain": [
       "   ID  Age_mean  Albumin_max  Albumin_median  Albumin_min  Albumin_range  \\\n",
       "0   1        65         57.0            40.5         38.0       0.066202   \n",
       "1   2        48         45.0            41.0         39.0       0.010453   \n",
       "2   3        38         50.0            47.0         45.0       0.008929   \n",
       "3   4        63         47.0            44.0         41.0       0.012111   \n",
       "4   5        63         47.0            45.5         42.0       0.008292   \n",
       "\n",
       "   ALSFRS_slope  ALSFRS_Total_max  ALSFRS_Total_median  ALSFRS_Total_min  ...  \\\n",
       "0     -0.965608                30                 28.0                22  ...   \n",
       "1     -0.921717                37                 33.0                21  ...   \n",
       "2     -0.914787                24                 14.0                10  ...   \n",
       "3     -0.598361                30                 29.0                24  ...   \n",
       "4     -0.444039                32                 27.5                20  ...   \n",
       "\n",
       "   Sodium_min  Sodium_range  SubjectID  trunk_max  trunk_median  trunk_min  \\\n",
       "0       143.0      0.017422        533          8           7.0          7   \n",
       "1       136.0      0.010453        649          8           7.0          5   \n",
       "2       140.0      0.008929       1234          5           0.0          0   \n",
       "3       138.0      0.012469       2492          5           5.0          3   \n",
       "4       138.0      0.008292       2956          6           4.0          1   \n",
       "\n",
       "   trunk_range  Urine.Ph_max  Urine.Ph_median  Urine.Ph_min  \n",
       "0     0.002646           6.0              6.0           6.0  \n",
       "1     0.005386           7.0              5.0           5.0  \n",
       "2     0.008929           6.0              5.0           5.0  \n",
       "3     0.004988           7.0              6.0           5.0  \n",
       "4     0.008489           6.0              5.0           5.0  \n",
       "\n",
       "[5 rows x 101 columns]"
      ]
     },
     "execution_count": 3,
     "metadata": {},
     "output_type": "execute_result"
    }
   ],
   "source": [
    "df.head()"
   ]
  },
  {
   "cell_type": "markdown",
   "id": "74335082-faae-4cdf-b096-ec2a04a60c44",
   "metadata": {},
   "source": [
    "* #### Remove Any data that is not relevant to patient's ALS confition"
   ]
  },
  {
   "cell_type": "markdown",
   "id": "96a50a05-fc26-479c-992d-c87c5fecc170",
   "metadata": {},
   "source": [
    "When we are dealing with high dimensional datasets, we can run into issues with clustering methods. Feature selection is a well-known technique for supervised learning but a lot less for unsupervised learning (like clustering) methods. For that reason I am going to pick the columns based on gut feeling at this moment."
   ]
  },
  {
   "cell_type": "markdown",
   "id": "de76475f-fbed-4459-8241-8b19b3799ba2",
   "metadata": {},
   "source": [
    "I think subject ID and ID are the columns which are not relevant, I will get rid of those and keep the rest."
   ]
  },
  {
   "cell_type": "code",
   "execution_count": 4,
   "id": "43b8c89a-c17a-4b47-91df-54bbb9435aeb",
   "metadata": {},
   "outputs": [],
   "source": [
    "df.drop(columns=['SubjectID','ID'], inplace = True)"
   ]
  },
  {
   "cell_type": "code",
   "execution_count": 5,
   "id": "4b20e151-d50a-4f85-8440-d197a61c755e",
   "metadata": {},
   "outputs": [
    {
     "data": {
      "text/html": [
       "<div>\n",
       "<style scoped>\n",
       "    .dataframe tbody tr th:only-of-type {\n",
       "        vertical-align: middle;\n",
       "    }\n",
       "\n",
       "    .dataframe tbody tr th {\n",
       "        vertical-align: top;\n",
       "    }\n",
       "\n",
       "    .dataframe thead th {\n",
       "        text-align: right;\n",
       "    }\n",
       "</style>\n",
       "<table border=\"1\" class=\"dataframe\">\n",
       "  <thead>\n",
       "    <tr style=\"text-align: right;\">\n",
       "      <th></th>\n",
       "      <th>Age_mean</th>\n",
       "      <th>Albumin_max</th>\n",
       "      <th>Albumin_median</th>\n",
       "      <th>Albumin_min</th>\n",
       "      <th>Albumin_range</th>\n",
       "      <th>ALSFRS_slope</th>\n",
       "      <th>ALSFRS_Total_max</th>\n",
       "      <th>ALSFRS_Total_median</th>\n",
       "      <th>ALSFRS_Total_min</th>\n",
       "      <th>ALSFRS_Total_range</th>\n",
       "      <th>...</th>\n",
       "      <th>Sodium_median</th>\n",
       "      <th>Sodium_min</th>\n",
       "      <th>Sodium_range</th>\n",
       "      <th>trunk_max</th>\n",
       "      <th>trunk_median</th>\n",
       "      <th>trunk_min</th>\n",
       "      <th>trunk_range</th>\n",
       "      <th>Urine.Ph_max</th>\n",
       "      <th>Urine.Ph_median</th>\n",
       "      <th>Urine.Ph_min</th>\n",
       "    </tr>\n",
       "  </thead>\n",
       "  <tbody>\n",
       "    <tr>\n",
       "      <th>0</th>\n",
       "      <td>65</td>\n",
       "      <td>57.0</td>\n",
       "      <td>40.5</td>\n",
       "      <td>38.0</td>\n",
       "      <td>0.066202</td>\n",
       "      <td>-0.965608</td>\n",
       "      <td>30</td>\n",
       "      <td>28.0</td>\n",
       "      <td>22</td>\n",
       "      <td>0.021164</td>\n",
       "      <td>...</td>\n",
       "      <td>145.5</td>\n",
       "      <td>143.0</td>\n",
       "      <td>0.017422</td>\n",
       "      <td>8</td>\n",
       "      <td>7.0</td>\n",
       "      <td>7</td>\n",
       "      <td>0.002646</td>\n",
       "      <td>6.0</td>\n",
       "      <td>6.0</td>\n",
       "      <td>6.0</td>\n",
       "    </tr>\n",
       "    <tr>\n",
       "      <th>1</th>\n",
       "      <td>48</td>\n",
       "      <td>45.0</td>\n",
       "      <td>41.0</td>\n",
       "      <td>39.0</td>\n",
       "      <td>0.010453</td>\n",
       "      <td>-0.921717</td>\n",
       "      <td>37</td>\n",
       "      <td>33.0</td>\n",
       "      <td>21</td>\n",
       "      <td>0.028725</td>\n",
       "      <td>...</td>\n",
       "      <td>138.0</td>\n",
       "      <td>136.0</td>\n",
       "      <td>0.010453</td>\n",
       "      <td>8</td>\n",
       "      <td>7.0</td>\n",
       "      <td>5</td>\n",
       "      <td>0.005386</td>\n",
       "      <td>7.0</td>\n",
       "      <td>5.0</td>\n",
       "      <td>5.0</td>\n",
       "    </tr>\n",
       "    <tr>\n",
       "      <th>2</th>\n",
       "      <td>38</td>\n",
       "      <td>50.0</td>\n",
       "      <td>47.0</td>\n",
       "      <td>45.0</td>\n",
       "      <td>0.008929</td>\n",
       "      <td>-0.914787</td>\n",
       "      <td>24</td>\n",
       "      <td>14.0</td>\n",
       "      <td>10</td>\n",
       "      <td>0.025000</td>\n",
       "      <td>...</td>\n",
       "      <td>143.0</td>\n",
       "      <td>140.0</td>\n",
       "      <td>0.008929</td>\n",
       "      <td>5</td>\n",
       "      <td>0.0</td>\n",
       "      <td>0</td>\n",
       "      <td>0.008929</td>\n",
       "      <td>6.0</td>\n",
       "      <td>5.0</td>\n",
       "      <td>5.0</td>\n",
       "    </tr>\n",
       "    <tr>\n",
       "      <th>3</th>\n",
       "      <td>63</td>\n",
       "      <td>47.0</td>\n",
       "      <td>44.0</td>\n",
       "      <td>41.0</td>\n",
       "      <td>0.012111</td>\n",
       "      <td>-0.598361</td>\n",
       "      <td>30</td>\n",
       "      <td>29.0</td>\n",
       "      <td>24</td>\n",
       "      <td>0.014963</td>\n",
       "      <td>...</td>\n",
       "      <td>139.0</td>\n",
       "      <td>138.0</td>\n",
       "      <td>0.012469</td>\n",
       "      <td>5</td>\n",
       "      <td>5.0</td>\n",
       "      <td>3</td>\n",
       "      <td>0.004988</td>\n",
       "      <td>7.0</td>\n",
       "      <td>6.0</td>\n",
       "      <td>5.0</td>\n",
       "    </tr>\n",
       "    <tr>\n",
       "      <th>4</th>\n",
       "      <td>63</td>\n",
       "      <td>47.0</td>\n",
       "      <td>45.5</td>\n",
       "      <td>42.0</td>\n",
       "      <td>0.008292</td>\n",
       "      <td>-0.444039</td>\n",
       "      <td>32</td>\n",
       "      <td>27.5</td>\n",
       "      <td>20</td>\n",
       "      <td>0.020374</td>\n",
       "      <td>...</td>\n",
       "      <td>140.0</td>\n",
       "      <td>138.0</td>\n",
       "      <td>0.008292</td>\n",
       "      <td>6</td>\n",
       "      <td>4.0</td>\n",
       "      <td>1</td>\n",
       "      <td>0.008489</td>\n",
       "      <td>6.0</td>\n",
       "      <td>5.0</td>\n",
       "      <td>5.0</td>\n",
       "    </tr>\n",
       "  </tbody>\n",
       "</table>\n",
       "<p>5 rows × 99 columns</p>\n",
       "</div>"
      ],
      "text/plain": [
       "   Age_mean  Albumin_max  Albumin_median  Albumin_min  Albumin_range  \\\n",
       "0        65         57.0            40.5         38.0       0.066202   \n",
       "1        48         45.0            41.0         39.0       0.010453   \n",
       "2        38         50.0            47.0         45.0       0.008929   \n",
       "3        63         47.0            44.0         41.0       0.012111   \n",
       "4        63         47.0            45.5         42.0       0.008292   \n",
       "\n",
       "   ALSFRS_slope  ALSFRS_Total_max  ALSFRS_Total_median  ALSFRS_Total_min  \\\n",
       "0     -0.965608                30                 28.0                22   \n",
       "1     -0.921717                37                 33.0                21   \n",
       "2     -0.914787                24                 14.0                10   \n",
       "3     -0.598361                30                 29.0                24   \n",
       "4     -0.444039                32                 27.5                20   \n",
       "\n",
       "   ALSFRS_Total_range  ...  Sodium_median  Sodium_min  Sodium_range  \\\n",
       "0            0.021164  ...          145.5       143.0      0.017422   \n",
       "1            0.028725  ...          138.0       136.0      0.010453   \n",
       "2            0.025000  ...          143.0       140.0      0.008929   \n",
       "3            0.014963  ...          139.0       138.0      0.012469   \n",
       "4            0.020374  ...          140.0       138.0      0.008292   \n",
       "\n",
       "   trunk_max  trunk_median  trunk_min  trunk_range  Urine.Ph_max  \\\n",
       "0          8           7.0          7     0.002646           6.0   \n",
       "1          8           7.0          5     0.005386           7.0   \n",
       "2          5           0.0          0     0.008929           6.0   \n",
       "3          5           5.0          3     0.004988           7.0   \n",
       "4          6           4.0          1     0.008489           6.0   \n",
       "\n",
       "   Urine.Ph_median  Urine.Ph_min  \n",
       "0              6.0           6.0  \n",
       "1              5.0           5.0  \n",
       "2              5.0           5.0  \n",
       "3              6.0           5.0  \n",
       "4              5.0           5.0  \n",
       "\n",
       "[5 rows x 99 columns]"
      ]
     },
     "execution_count": 5,
     "metadata": {},
     "output_type": "execute_result"
    }
   ],
   "source": [
    "df.head()"
   ]
  },
  {
   "cell_type": "markdown",
   "id": "dcd89c90-6140-4a75-8372-c861729e6174",
   "metadata": {},
   "source": [
    "* #### Apply a standard scalar to the data"
   ]
  },
  {
   "cell_type": "markdown",
   "id": "b394e89a-2d62-4655-945d-a584c5797379",
   "metadata": {},
   "source": [
    "I have to apply the standard scaler to standardize the data because it helps to improve the performance and convergence of the model. I am going to use a package to perform this operation but the formula for standar scaler is z = (x - u) / s. where u is a mean and S is a standard deviation."
   ]
  },
  {
   "cell_type": "markdown",
   "id": "f2cc2ea7-fafb-4c21-841c-52c17221276f",
   "metadata": {},
   "source": [
    "I need to import standardscaler package frm sklearn."
   ]
  },
  {
   "cell_type": "code",
   "execution_count": 6,
   "id": "2c6982db-0777-4598-98ea-82ef07eedd1c",
   "metadata": {},
   "outputs": [],
   "source": [
    "from sklearn.preprocessing import StandardScaler"
   ]
  },
  {
   "cell_type": "markdown",
   "id": "f0b697b2-481c-44b1-bd5a-fd4b5e5d61ea",
   "metadata": {},
   "source": [
    "Performing the standard scaler on our df now. We will get a scaled dataframe post this operation."
   ]
  },
  {
   "cell_type": "code",
   "execution_count": 7,
   "id": "8e4c74ef-3e5c-4fbb-af51-f7a6cb02950c",
   "metadata": {},
   "outputs": [],
   "source": [
    "scaler = StandardScaler()\n",
    "scaled_df = scaler.fit_transform(df)"
   ]
  },
  {
   "cell_type": "markdown",
   "id": "f19c5fb9-ab7c-4319-8d01-410c8f08a43d",
   "metadata": {},
   "source": [
    "* #### Create a plot of the cluster silhouette score versus the number of clusters in a K-means cluster."
   ]
  },
  {
   "cell_type": "markdown",
   "id": "740cb3b6-62e1-4e9f-a9a2-99ce31b7e82d",
   "metadata": {},
   "source": [
    "For this, I will need additional packaged from sklearn. Let me import those"
   ]
  },
  {
   "cell_type": "code",
   "execution_count": 8,
   "id": "647b49cd-2e94-4ea8-8219-a9ce3e847882",
   "metadata": {},
   "outputs": [],
   "source": [
    "from sklearn.cluster import KMeans\n",
    "from sklearn.metrics import silhouette_score"
   ]
  },
  {
   "cell_type": "markdown",
   "id": "8d635ff8-192f-4795-b3be-a2b8899845f3",
   "metadata": {},
   "source": [
    "Below is the code that will run through 2 to 10 to come up with the number of clusters and the silhouette scores for each value of k i.e. the number of clusters"
   ]
  },
  {
   "cell_type": "code",
   "execution_count": 9,
   "id": "30beeb76-64ce-4b8e-ae04-bcb2b64cb39c",
   "metadata": {},
   "outputs": [],
   "source": [
    "slht_scores = []\n",
    "for n_clusters in range(2, 10):  \n",
    "    km = KMeans(n_clusters=n_clusters, random_state=42)\n",
    "    clusters = km.fit_predict(scaled_df)\n",
    "    slht_scores.append(silhouette_score(scaled_df, clusters))"
   ]
  },
  {
   "cell_type": "markdown",
   "id": "9af93651-9fd3-407e-988a-1ee690c88227",
   "metadata": {},
   "source": [
    "The next thing is to plot the silhouette scores for each value of k."
   ]
  },
  {
   "cell_type": "markdown",
   "id": "b39ded56-3817-465c-b91b-ab938e39f619",
   "metadata": {},
   "source": [
    "To plot I need to import matplotlib, let me do that."
   ]
  },
  {
   "cell_type": "code",
   "execution_count": 10,
   "id": "8beba8cd-9846-4ede-8918-db4491e29fae",
   "metadata": {},
   "outputs": [],
   "source": [
    "import matplotlib.pyplot as plt"
   ]
  },
  {
   "cell_type": "code",
   "execution_count": 11,
   "id": "d17b7d52-790a-42bc-a7ca-91e3ad764573",
   "metadata": {},
   "outputs": [
    {
     "data": {
      "image/png": "[encoded data removed]",
      "text/plain": [
       "<Figure size 640x480 with 1 Axes>"
      ]
     },
     "metadata": {},
     "output_type": "display_data"
    }
   ],
   "source": [
    "plt.plot(range(2, 10), slht_scores, marker='o')\n",
    "plt.xlabel('Number of clusters')\n",
    "plt.ylabel('Silhouette Score')\n",
    "plt.title('Silhouette Score vs Number of Clusters')\n",
    "plt.show()\n"
   ]
  },
  {
   "cell_type": "markdown",
   "id": "779af296-82e2-4b3d-98a9-f866bd89a469",
   "metadata": {},
   "source": [
    "It is evident from the plot above that the K = 2 has maximum Silhouette Score."
   ]
  },
  {
   "cell_type": "markdown",
   "id": "2d3c11ab-45f4-4bac-8956-26a647ae92f4",
   "metadata": {},
   "source": [
    "* #### Fit a K-means model with the optimal number of clusters"
   ]
  },
  {
   "cell_type": "code",
   "execution_count": 12,
   "id": "028975f6-f082-4d2a-950d-8023510b7319",
   "metadata": {},
   "outputs": [],
   "source": [
    "kmeans = KMeans(n_clusters=2, random_state=42)\n",
    "kmeans.fit(scaled_df)\n",
    "cluster_labels = kmeans.labels_"
   ]
  },
  {
   "cell_type": "markdown",
   "id": "9d1b0ffd-e9a7-4c3b-a376-2474c4a7b872",
   "metadata": {},
   "source": [
    "* #### Fit a PCA transformation with two features to the scaled data."
   ]
  },
  {
   "cell_type": "markdown",
   "id": "a1da40ca-4ea3-4782-90ad-8f270515c1a7",
   "metadata": {},
   "source": [
    "For this I need to import PCA module from sklearn."
   ]
  },
  {
   "cell_type": "code",
   "execution_count": 13,
   "id": "d4431adc-8427-46da-8a4f-329412cacf8a",
   "metadata": {},
   "outputs": [],
   "source": [
    "from sklearn.decomposition import PCA"
   ]
  },
  {
   "cell_type": "code",
   "execution_count": 16,
   "id": "09cd553a-2227-41cb-8ea0-64dde30db033",
   "metadata": {},
   "outputs": [],
   "source": [
    "pca = PCA(n_components=2)\n",
    "pca_df = pca.fit_transform(scaled_df)"
   ]
  },
  {
   "cell_type": "markdown",
   "id": "8fe05f52-072a-4561-9024-9fd404b97690",
   "metadata": {},
   "source": [
    "* #### Make a scatterplot of the PCA transformed data coloring each point by its cluster value"
   ]
  },
  {
   "cell_type": "code",
   "execution_count": 17,
   "id": "612ecfbf-b01b-4b5e-a41a-7be6aa24ce34",
   "metadata": {},
   "outputs": [
    {
     "data": {
      "image/png": "[encoded data removed]",
      "text/plain": [
       "<Figure size 640x480 with 2 Axes>"
      ]
     },
     "metadata": {},
     "output_type": "display_data"
    }
   ],
   "source": [
    "plt.scatter(pca_df[:, 0], pca_df[:, 1], c=cluster_labels, cmap='viridis')\n",
    "plt.xlabel('1ST PRINCIPAL COMPONENT')\n",
    "plt.ylabel('2ND PRINCIPAL COMPONENT')\n",
    "plt.title('Data with Cluster Labels after PCA transformation')\n",
    "plt.colorbar(label='Cluster')\n",
    "plt.show()"
   ]
  },
  {
   "cell_type": "markdown",
   "id": "f0c28d60-b107-4d74-ad67-ad9ad4f47bf5",
   "metadata": {},
   "source": [
    "* #### Analyze the cluster distribution and characteristics to draw conclusions about ALS patient data"
   ]
  },
  {
   "cell_type": "markdown",
   "id": "25ebb4d2-7750-490b-9429-91fdd2eb894b",
   "metadata": {},
   "source": [
    "*  Per the Silhouette Score, K = 2 is the optimized number of clusters.\n",
    "*  K = 2 has score closed to 0.08\n",
    "*  Based on that the scatter plot is generated and it has plotted all the data points into two clusters.\n",
    "*  Looking at the scatter plot, with K = 2, it seems that removing outliers from the data wouldn't have impacted anything.\n",
    "*  The distinction in the two clusters seems to be based on 1st Principal Component\n",
    "*  All the data points with 1st Principal Component <= 0 is one cluster\n",
    "*  All the remaining data points i.e. 1st Principal Component > 0 is the second cluster."
   ]
  },
  {
   "cell_type": "code",
   "execution_count": null,
   "id": "6088844e-7152-42a1-81c1-503df115eefc",
   "metadata": {},
   "outputs": [],
   "source": []
  }
 ],
 "metadata": {
  "kernelspec": {
   "display_name": "Python 3 (ipykernel)",
   "language": "python",
   "name": "python3"
  },
  "language_info": {
   "codemirror_mode": {
    "name": "ipython",
    "version": 3
   },
   "file_extension": ".py",
   "mimetype": "text/x-python",
   "name": "python",
   "nbconvert_exporter": "python",
   "pygments_lexer": "ipython3",
   "version": "3.12.3"
  }
 },
 "nbformat": 4,
 "nbformat_minor": 5
}
