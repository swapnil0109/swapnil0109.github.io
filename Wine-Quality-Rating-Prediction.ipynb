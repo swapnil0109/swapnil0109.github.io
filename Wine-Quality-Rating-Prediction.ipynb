{
 "cells": [
  {
   "cell_type": "markdown",
   "id": "b18be777-2058-4123-9b83-67c3b5c87375",
   "metadata": {},
   "source": [
    "### Term Project: Predicting Wine quality rating\n",
    "### Student : Swapnil Chavan\n",
    "### Mentor : Dr. Brett Werner\n",
    "### Subject: DSC 550 Data Mining"
   ]
  },
  {
   "cell_type": "markdown",
   "id": "052fe4b8-4538-4608-9c97-5bb94b7c2959",
   "metadata": {},
   "source": [
    "## CLICK HERE TO GO TO [Milestone 1](#ProjectMileStone1) [Milestone 2](#milestone2) [Milestone 3](#milestone3) "
   ]
  },
  {
   "cell_type": "markdown",
   "id": "9255940a-37df-4225-9599-c5da358d1a12",
   "metadata": {},
   "source": [
    "<a id='ProjectMileStone1'></a>"
   ]
  },
  {
   "cell_type": "markdown",
   "id": "1eb7541a-19b3-40c7-98c8-f25db3ea9de2",
   "metadata": {},
   "source": [
    "#### Project Milestone 1"
   ]
  },
  {
   "cell_type": "markdown",
   "id": "cf899ed2-e75f-4c4e-bfb2-dceaea512371",
   "metadata": {},
   "source": [
    "#### Description:"
   ]
  },
  {
   "cell_type": "markdown",
   "id": "7bca23fb-27aa-4b53-9246-1bbefcfcfdec",
   "metadata": {},
   "source": [
    "Two datasets are included, related to red and white vinho verde wine samples, from the north of Portugal. The goal is to model wine quality based on physicochemical tests. This dataset contains various chemical properties of different wines along with their quality ratings. It's often used for regression tasks, where the goal is to predict the quality of a wine based on its chemical composition."
   ]
  },
  {
   "cell_type": "markdown",
   "id": "e1a22022-9671-420b-82b9-925b1f39dfdd",
   "metadata": {},
   "source": [
    "#### Data Source:"
   ]
  },
  {
   "cell_type": "markdown",
   "id": "2c67cd3b-8c57-4996-ad12-5c96e0a420df",
   "metadata": {},
   "source": [
    "The data is available on [UCI Machine Learning Repositiry](https://archive.ics.uci.edu/dataset/186/wine+quality)"
   ]
  },
  {
   "cell_type": "markdown",
   "id": "91f59c56-c7c4-457e-86ee-d284283a03db",
   "metadata": {},
   "source": [
    "* #### Features"
   ]
  },
  {
   "cell_type": "markdown",
   "id": "2cbdf525-e59d-4c65-9632-3162ab33daa0",
   "metadata": {},
   "source": [
    "1. Fixed acidity\n",
    "2. Volatile acidity\n",
    "3. Citric acid\n",
    "4. Residual sugar\n",
    "5. Chlorides\n",
    "6. Free sulfur dioxide\n",
    "7. Total sulfur dioxide\n",
    "8. Density\n",
    "9. pH\n",
    "10. Sulphates\n",
    "11. Alcohol"
   ]
  },
  {
   "cell_type": "markdown",
   "id": "0c299181-484d-403b-a443-8fa8beddcf3f",
   "metadata": {},
   "source": [
    "* #### Target Varibale"
   ]
  },
  {
   "cell_type": "markdown",
   "id": "53122f33-2fbb-4575-b142-7fad8d7091dd",
   "metadata": {},
   "source": [
    " Quality: Wine quality rating (score between 0 and 10)"
   ]
  },
  {
   "cell_type": "markdown",
   "id": "bd7a02e4-0d6b-4faf-ae04-c0a1e2ddb842",
   "metadata": {},
   "source": [
    "##### Let's read the data"
   ]
  },
  {
   "cell_type": "code",
   "execution_count": 1,
   "id": "11f4b8ce-eea9-43b6-b2f1-c9eb76b83f08",
   "metadata": {},
   "outputs": [],
   "source": [
    "import pandas as pd"
   ]
  },
  {
   "cell_type": "code",
   "execution_count": 2,
   "id": "f3e33326-2225-4931-933a-1390dc82fd01",
   "metadata": {},
   "outputs": [],
   "source": [
    "pd.options.display.max_columns = None"
   ]
  },
  {
   "cell_type": "code",
   "execution_count": 3,
   "id": "5118fc11-24e8-4551-88b6-ff19b0dfd9f0",
   "metadata": {},
   "outputs": [],
   "source": [
    "df = pd.read_csv(\"C:/Users/swapn/Data Mining/wine+quality/winequality-white.csv\", sep=\";\")"
   ]
  },
  {
   "cell_type": "code",
   "execution_count": 4,
   "id": "4e61e4ce-8fdc-45b5-864b-f919a6093b2a",
   "metadata": {},
   "outputs": [
    {
     "data": {
      "text/html": [
       "<div>\n",
       "<style scoped>\n",
       "    .dataframe tbody tr th:only-of-type {\n",
       "        vertical-align: middle;\n",
       "    }\n",
       "\n",
       "    .dataframe tbody tr th {\n",
       "        vertical-align: top;\n",
       "    }\n",
       "\n",
       "    .dataframe thead th {\n",
       "        text-align: right;\n",
       "    }\n",
       "</style>\n",
       "<table border=\"1\" class=\"dataframe\">\n",
       "  <thead>\n",
       "    <tr style=\"text-align: right;\">\n",
       "      <th></th>\n",
       "      <th>fixed acidity</th>\n",
       "      <th>volatile acidity</th>\n",
       "      <th>citric acid</th>\n",
       "      <th>residual sugar</th>\n",
       "      <th>chlorides</th>\n",
       "      <th>free sulfur dioxide</th>\n",
       "      <th>total sulfur dioxide</th>\n",
       "      <th>density</th>\n",
       "      <th>pH</th>\n",
       "      <th>sulphates</th>\n",
       "      <th>alcohol</th>\n",
       "      <th>quality</th>\n",
       "    </tr>\n",
       "  </thead>\n",
       "  <tbody>\n",
       "    <tr>\n",
       "      <th>0</th>\n",
       "      <td>7.0</td>\n",
       "      <td>0.27</td>\n",
       "      <td>0.36</td>\n",
       "      <td>20.7</td>\n",
       "      <td>0.045</td>\n",
       "      <td>45.0</td>\n",
       "      <td>170.0</td>\n",
       "      <td>1.0010</td>\n",
       "      <td>3.00</td>\n",
       "      <td>0.45</td>\n",
       "      <td>8.8</td>\n",
       "      <td>6</td>\n",
       "    </tr>\n",
       "    <tr>\n",
       "      <th>1</th>\n",
       "      <td>6.3</td>\n",
       "      <td>0.30</td>\n",
       "      <td>0.34</td>\n",
       "      <td>1.6</td>\n",
       "      <td>0.049</td>\n",
       "      <td>14.0</td>\n",
       "      <td>132.0</td>\n",
       "      <td>0.9940</td>\n",
       "      <td>3.30</td>\n",
       "      <td>0.49</td>\n",
       "      <td>9.5</td>\n",
       "      <td>6</td>\n",
       "    </tr>\n",
       "    <tr>\n",
       "      <th>2</th>\n",
       "      <td>8.1</td>\n",
       "      <td>0.28</td>\n",
       "      <td>0.40</td>\n",
       "      <td>6.9</td>\n",
       "      <td>0.050</td>\n",
       "      <td>30.0</td>\n",
       "      <td>97.0</td>\n",
       "      <td>0.9951</td>\n",
       "      <td>3.26</td>\n",
       "      <td>0.44</td>\n",
       "      <td>10.1</td>\n",
       "      <td>6</td>\n",
       "    </tr>\n",
       "    <tr>\n",
       "      <th>3</th>\n",
       "      <td>7.2</td>\n",
       "      <td>0.23</td>\n",
       "      <td>0.32</td>\n",
       "      <td>8.5</td>\n",
       "      <td>0.058</td>\n",
       "      <td>47.0</td>\n",
       "      <td>186.0</td>\n",
       "      <td>0.9956</td>\n",
       "      <td>3.19</td>\n",
       "      <td>0.40</td>\n",
       "      <td>9.9</td>\n",
       "      <td>6</td>\n",
       "    </tr>\n",
       "    <tr>\n",
       "      <th>4</th>\n",
       "      <td>7.2</td>\n",
       "      <td>0.23</td>\n",
       "      <td>0.32</td>\n",
       "      <td>8.5</td>\n",
       "      <td>0.058</td>\n",
       "      <td>47.0</td>\n",
       "      <td>186.0</td>\n",
       "      <td>0.9956</td>\n",
       "      <td>3.19</td>\n",
       "      <td>0.40</td>\n",
       "      <td>9.9</td>\n",
       "      <td>6</td>\n",
       "    </tr>\n",
       "  </tbody>\n",
       "</table>\n",
       "</div>"
      ],
      "text/plain": [
       "   fixed acidity  volatile acidity  citric acid  residual sugar  chlorides  \\\n",
       "0            7.0              0.27         0.36            20.7      0.045   \n",
       "1            6.3              0.30         0.34             1.6      0.049   \n",
       "2            8.1              0.28         0.40             6.9      0.050   \n",
       "3            7.2              0.23         0.32             8.5      0.058   \n",
       "4            7.2              0.23         0.32             8.5      0.058   \n",
       "\n",
       "   free sulfur dioxide  total sulfur dioxide  density    pH  sulphates  \\\n",
       "0                 45.0                 170.0   1.0010  3.00       0.45   \n",
       "1                 14.0                 132.0   0.9940  3.30       0.49   \n",
       "2                 30.0                  97.0   0.9951  3.26       0.44   \n",
       "3                 47.0                 186.0   0.9956  3.19       0.40   \n",
       "4                 47.0                 186.0   0.9956  3.19       0.40   \n",
       "\n",
       "   alcohol  quality  \n",
       "0      8.8        6  \n",
       "1      9.5        6  \n",
       "2     10.1        6  \n",
       "3      9.9        6  \n",
       "4      9.9        6  "
      ]
     },
     "execution_count": 4,
     "metadata": {},
     "output_type": "execute_result"
    }
   ],
   "source": [
    "df.head()"
   ]
  },
  {
   "cell_type": "code",
   "execution_count": 5,
   "id": "21c16dd7-9c86-4f04-86e5-ed43b55d1b95",
   "metadata": {},
   "outputs": [
    {
     "data": {
      "text/plain": [
       "(4898, 12)"
      ]
     },
     "execution_count": 5,
     "metadata": {},
     "output_type": "execute_result"
    }
   ],
   "source": [
    "df.shape"
   ]
  },
  {
   "cell_type": "markdown",
   "id": "58c6a740-47ca-4895-a037-af3b03dea197",
   "metadata": {},
   "source": [
    "#### Data Preprocessing"
   ]
  },
  {
   "cell_type": "markdown",
   "id": "fed170c2-7045-4a3e-a290-6d02692d9a9e",
   "metadata": {},
   "source": [
    "Let's see if any missing values in the dataframe"
   ]
  },
  {
   "cell_type": "code",
   "execution_count": 6,
   "id": "fa560cd2-47fa-410f-971f-bdaa9514adfa",
   "metadata": {},
   "outputs": [
    {
     "data": {
      "text/plain": [
       "fixed acidity           0\n",
       "volatile acidity        0\n",
       "citric acid             0\n",
       "residual sugar          0\n",
       "chlorides               0\n",
       "free sulfur dioxide     0\n",
       "total sulfur dioxide    0\n",
       "density                 0\n",
       "pH                      0\n",
       "sulphates               0\n",
       "alcohol                 0\n",
       "quality                 0\n",
       "dtype: int64"
      ]
     },
     "execution_count": 6,
     "metadata": {},
     "output_type": "execute_result"
    }
   ],
   "source": [
    "df.isnull().sum()"
   ]
  },
  {
   "cell_type": "markdown",
   "id": "243f61f5-e4b2-491d-8b08-50337843fbd6",
   "metadata": {},
   "source": [
    "Fortunately there is no missing data"
   ]
  },
  {
   "cell_type": "markdown",
   "id": "a2157d75-770a-4323-a012-a73752a553d1",
   "metadata": {},
   "source": [
    "Lets see the histogram of all the variables in the dataframe"
   ]
  },
  {
   "cell_type": "code",
   "execution_count": 7,
   "id": "0f921766-52b0-41d6-9c32-196faa721fbb",
   "metadata": {},
   "outputs": [
    {
     "data": {
      "text/plain": [
       "array([[<Axes: title={'center': 'fixed acidity'}>,\n",
       "        <Axes: title={'center': 'volatile acidity'}>,\n",
       "        <Axes: title={'center': 'citric acid'}>],\n",
       "       [<Axes: title={'center': 'residual sugar'}>,\n",
       "        <Axes: title={'center': 'chlorides'}>,\n",
       "        <Axes: title={'center': 'free sulfur dioxide'}>],\n",
       "       [<Axes: title={'center': 'total sulfur dioxide'}>,\n",
       "        <Axes: title={'center': 'density'}>,\n",
       "        <Axes: title={'center': 'pH'}>],\n",
       "       [<Axes: title={'center': 'sulphates'}>,\n",
       "        <Axes: title={'center': 'alcohol'}>,\n",
       "        <Axes: title={'center': 'quality'}>]], dtype=object)"
      ]
     },
     "execution_count": 7,
     "metadata": {},
     "output_type": "execute_result"
    },
    {
     "data": {
      "image/png": "[encoded data removed]",
      "text/plain": [
       "<Figure size 640x480 with 12 Axes>"
      ]
     },
     "metadata": {},
     "output_type": "display_data"
    }
   ],
   "source": [
    "df.hist()"
   ]
  },
  {
   "cell_type": "markdown",
   "id": "b62de4f7-da1e-4c74-b4db-42c254de89fc",
   "metadata": {},
   "source": [
    "The Quality variable seems normally distributed, lets just see if there are any outliers using boxplot"
   ]
  },
  {
   "cell_type": "code",
   "execution_count": 8,
   "id": "7c3755d3-aeba-46ff-8add-6beb512fbdd3",
   "metadata": {},
   "outputs": [],
   "source": [
    "import matplotlib.pyplot as plt"
   ]
  },
  {
   "cell_type": "code",
   "execution_count": 9,
   "id": "2a3ccc48-8109-4946-a6ff-00fe42e65e67",
   "metadata": {},
   "outputs": [
    {
     "data": {
      "text/plain": [
       "{'whiskers': [<matplotlib.lines.Line2D at 0x1f8a9b5d190>,\n",
       "  <matplotlib.lines.Line2D at 0x1f8a9d76ab0>],\n",
       " 'caps': [<matplotlib.lines.Line2D at 0x1f8a9d76de0>,\n",
       "  <matplotlib.lines.Line2D at 0x1f8a9d77110>],\n",
       " 'boxes': [<matplotlib.lines.Line2D at 0x1f8a9b73f20>],\n",
       " 'medians': [<matplotlib.lines.Line2D at 0x1f8a9d77410>],\n",
       " 'fliers': [<matplotlib.lines.Line2D at 0x1f8a9d77710>],\n",
       " 'means': []}"
      ]
     },
     "execution_count": 9,
     "metadata": {},
     "output_type": "execute_result"
    },
    {
     "data": {
      "image/png": "[encoded data removed]",
      "text/plain": [
       "<Figure size 640x480 with 1 Axes>"
      ]
     },
     "metadata": {},
     "output_type": "display_data"
    }
   ],
   "source": [
    "plt.boxplot(df['quality'])"
   ]
  },
  {
   "cell_type": "markdown",
   "id": "626ddc4d-abf5-48a3-b903-c5cfa7001f17",
   "metadata": {},
   "source": [
    "The ideal data seems between the ratings 4 and 7 but because we have rating between 1 to 10, I think it is part of natural processing and lets not get rid of the extremes"
   ]
  },
  {
   "cell_type": "markdown",
   "id": "f32aab58-dd7a-407b-80e9-8aabfb8d2f89",
   "metadata": {},
   "source": [
    "Lets plot a correlation matrix"
   ]
  },
  {
   "cell_type": "code",
   "execution_count": 10,
   "id": "b4accbe6-c929-4ab9-8e6b-d9e2bdd1a813",
   "metadata": {},
   "outputs": [
    {
     "data": {
      "image/png": "[encoded data removed]",
      "text/plain": [
       "<Figure size 640x480 with 2 Axes>"
      ]
     },
     "metadata": {},
     "output_type": "display_data"
    }
   ],
   "source": [
    "import numpy as np\n",
    "corr = df.corr()\n",
    "fig = plt.figure()\n",
    "ax = fig.add_subplot(111)\n",
    "cax = ax.matshow(corr,cmap='coolwarm', vmin=-1, vmax=1)\n",
    "fig.colorbar(cax)\n",
    "ticks = np.arange(0,len(df.columns),1)\n",
    "ax.set_xticks(ticks)\n",
    "plt.xticks(rotation=90)\n",
    "ax.set_yticks(ticks)\n",
    "ax.set_xticklabels(df.columns)\n",
    "ax.set_yticklabels(df.columns)\n",
    "plt.show()"
   ]
  },
  {
   "cell_type": "markdown",
   "id": "9a16cd66-1a47-4cc9-b8d7-29a4802c6ae0",
   "metadata": {},
   "source": [
    "With this colors it does not give us a clear picture of correlation. We will perform some feature selection techniques down the line."
   ]
  },
  {
   "cell_type": "code",
   "execution_count": 11,
   "id": "44ad20af-9286-49b4-8fbe-4099eb7f4eb0",
   "metadata": {},
   "outputs": [
    {
     "data": {
      "image/png": "[encoded data removed]",
      "text/plain": [
       "<Figure size 1000x800 with 1 Axes>"
      ]
     },
     "metadata": {},
     "output_type": "display_data"
    }
   ],
   "source": [
    "plt.rcParams.update({'figure.figsize':(10,8), 'figure.dpi':100})\n",
    "plt.scatter(df.quality, df['citric acid'])\n",
    "#plt.scatter(df.quality, df['residual sugar'], label=f'y2 Correlation = {np.round(np.corrcoef(df.quality, df['residual sugar']), 2)}')\n",
    "#plt.scatter(df.quality, df['alcohol'], label=f'y3 Correlation = {np.round(np.corrcoef(df.quality, df['alcohol']), 2)}')\n",
    "\n",
    "# Plot\n",
    "plt.title('Scatterplot and Correlations')\n",
    "plt.show()"
   ]
  },
  {
   "cell_type": "code",
   "execution_count": 12,
   "id": "e60b15bb-f474-470c-9eda-14754ddbba33",
   "metadata": {
    "scrolled": true
   },
   "outputs": [
    {
     "data": {
      "image/png": "[encoded data removed]",
      "text/plain": [
       "<Figure size 1000x800 with 1 Axes>"
      ]
     },
     "metadata": {},
     "output_type": "display_data"
    }
   ],
   "source": [
    "plt.rcParams.update({'figure.figsize':(10,8), 'figure.dpi':100})\n",
    "plt.scatter(df.quality, df['residual sugar'])\n",
    "#plt.scatter(df.quality, df['alcohol'], label=f'y3 Correlation = {np.round(np.corrcoef(df.quality, df['alcohol']), 2)}')\n",
    "\n",
    "# Plot\n",
    "plt.title('Scatterplot and Correlations')\n",
    "plt.show()"
   ]
  },
  {
   "cell_type": "code",
   "execution_count": 13,
   "id": "81debbf7-9f52-4ce5-8b70-452cb20ee9bd",
   "metadata": {},
   "outputs": [
    {
     "data": {
      "image/png": "[encoded data removed]",
      "text/plain": [
       "<Figure size 1000x800 with 1 Axes>"
      ]
     },
     "metadata": {},
     "output_type": "display_data"
    }
   ],
   "source": [
    "plt.rcParams.update({'figure.figsize':(10,8), 'figure.dpi':100})\n",
    "plt.scatter(df.quality, df['alcohol'])\n",
    "\n",
    "# Plot\n",
    "plt.title('Scatterplot and Correlations')\n",
    "plt.show()"
   ]
  },
  {
   "cell_type": "markdown",
   "id": "ad16b3c1-3cea-413d-929d-2784f5903b9f",
   "metadata": {},
   "source": [
    "There doesn't seem any correlation between these variables"
   ]
  },
  {
   "cell_type": "markdown",
   "id": "cec1d180-c4b5-41e7-aecd-1e82d170b5d6",
   "metadata": {},
   "source": [
    "<a id=\"milestone2\"></a>"
   ]
  },
  {
   "cell_type": "markdown",
   "id": "b467dcdc-839f-4f4c-bd57-25ee54bec871",
   "metadata": {},
   "source": [
    "#### Project Milestone 2"
   ]
  },
  {
   "cell_type": "markdown",
   "id": "3d3c8518-225a-4a8b-801c-69c97bf30f4c",
   "metadata": {},
   "source": [
    "So far we imported the data, with the scatter plots we were not able to find if there is any correlation between quality and 3 other variables. We could not find if there is any correlation."
   ]
  },
  {
   "cell_type": "markdown",
   "id": "ac9e13f6-0fda-473f-a9c2-55d9170f2ec7",
   "metadata": {},
   "source": [
    "#### Feature Engineering "
   ]
  },
  {
   "cell_type": "markdown",
   "id": "273b6b8a-e526-409b-ab7a-9abe9013bd5b",
   "metadata": {},
   "source": [
    "We have fixed acidity and volatile acidity, lets find a ratio of volatile acidity and fixed acidity and add that as a new feauture"
   ]
  },
  {
   "cell_type": "code",
   "execution_count": 14,
   "id": "31cc5993-aeef-498c-85a0-51d593ebdf46",
   "metadata": {},
   "outputs": [],
   "source": [
    "df['volatile acidity Ratio'] = round(df['volatile acidity']/df['fixed acidity'],2)"
   ]
  },
  {
   "cell_type": "code",
   "execution_count": 15,
   "id": "4c96b974-b429-420c-8099-941ab91a5635",
   "metadata": {},
   "outputs": [
    {
     "data": {
      "text/html": [
       "<div>\n",
       "<style scoped>\n",
       "    .dataframe tbody tr th:only-of-type {\n",
       "        vertical-align: middle;\n",
       "    }\n",
       "\n",
       "    .dataframe tbody tr th {\n",
       "        vertical-align: top;\n",
       "    }\n",
       "\n",
       "    .dataframe thead th {\n",
       "        text-align: right;\n",
       "    }\n",
       "</style>\n",
       "<table border=\"1\" class=\"dataframe\">\n",
       "  <thead>\n",
       "    <tr style=\"text-align: right;\">\n",
       "      <th></th>\n",
       "      <th>fixed acidity</th>\n",
       "      <th>volatile acidity</th>\n",
       "      <th>citric acid</th>\n",
       "      <th>residual sugar</th>\n",
       "      <th>chlorides</th>\n",
       "      <th>free sulfur dioxide</th>\n",
       "      <th>total sulfur dioxide</th>\n",
       "      <th>density</th>\n",
       "      <th>pH</th>\n",
       "      <th>sulphates</th>\n",
       "      <th>alcohol</th>\n",
       "      <th>quality</th>\n",
       "      <th>volatile acidity Ratio</th>\n",
       "    </tr>\n",
       "  </thead>\n",
       "  <tbody>\n",
       "    <tr>\n",
       "      <th>0</th>\n",
       "      <td>7.0</td>\n",
       "      <td>0.27</td>\n",
       "      <td>0.36</td>\n",
       "      <td>20.7</td>\n",
       "      <td>0.045</td>\n",
       "      <td>45.0</td>\n",
       "      <td>170.0</td>\n",
       "      <td>1.0010</td>\n",
       "      <td>3.00</td>\n",
       "      <td>0.45</td>\n",
       "      <td>8.8</td>\n",
       "      <td>6</td>\n",
       "      <td>0.04</td>\n",
       "    </tr>\n",
       "    <tr>\n",
       "      <th>1</th>\n",
       "      <td>6.3</td>\n",
       "      <td>0.30</td>\n",
       "      <td>0.34</td>\n",
       "      <td>1.6</td>\n",
       "      <td>0.049</td>\n",
       "      <td>14.0</td>\n",
       "      <td>132.0</td>\n",
       "      <td>0.9940</td>\n",
       "      <td>3.30</td>\n",
       "      <td>0.49</td>\n",
       "      <td>9.5</td>\n",
       "      <td>6</td>\n",
       "      <td>0.05</td>\n",
       "    </tr>\n",
       "    <tr>\n",
       "      <th>2</th>\n",
       "      <td>8.1</td>\n",
       "      <td>0.28</td>\n",
       "      <td>0.40</td>\n",
       "      <td>6.9</td>\n",
       "      <td>0.050</td>\n",
       "      <td>30.0</td>\n",
       "      <td>97.0</td>\n",
       "      <td>0.9951</td>\n",
       "      <td>3.26</td>\n",
       "      <td>0.44</td>\n",
       "      <td>10.1</td>\n",
       "      <td>6</td>\n",
       "      <td>0.03</td>\n",
       "    </tr>\n",
       "    <tr>\n",
       "      <th>3</th>\n",
       "      <td>7.2</td>\n",
       "      <td>0.23</td>\n",
       "      <td>0.32</td>\n",
       "      <td>8.5</td>\n",
       "      <td>0.058</td>\n",
       "      <td>47.0</td>\n",
       "      <td>186.0</td>\n",
       "      <td>0.9956</td>\n",
       "      <td>3.19</td>\n",
       "      <td>0.40</td>\n",
       "      <td>9.9</td>\n",
       "      <td>6</td>\n",
       "      <td>0.03</td>\n",
       "    </tr>\n",
       "    <tr>\n",
       "      <th>4</th>\n",
       "      <td>7.2</td>\n",
       "      <td>0.23</td>\n",
       "      <td>0.32</td>\n",
       "      <td>8.5</td>\n",
       "      <td>0.058</td>\n",
       "      <td>47.0</td>\n",
       "      <td>186.0</td>\n",
       "      <td>0.9956</td>\n",
       "      <td>3.19</td>\n",
       "      <td>0.40</td>\n",
       "      <td>9.9</td>\n",
       "      <td>6</td>\n",
       "      <td>0.03</td>\n",
       "    </tr>\n",
       "  </tbody>\n",
       "</table>\n",
       "</div>"
      ],
      "text/plain": [
       "   fixed acidity  volatile acidity  citric acid  residual sugar  chlorides  \\\n",
       "0            7.0              0.27         0.36            20.7      0.045   \n",
       "1            6.3              0.30         0.34             1.6      0.049   \n",
       "2            8.1              0.28         0.40             6.9      0.050   \n",
       "3            7.2              0.23         0.32             8.5      0.058   \n",
       "4            7.2              0.23         0.32             8.5      0.058   \n",
       "\n",
       "   free sulfur dioxide  total sulfur dioxide  density    pH  sulphates  \\\n",
       "0                 45.0                 170.0   1.0010  3.00       0.45   \n",
       "1                 14.0                 132.0   0.9940  3.30       0.49   \n",
       "2                 30.0                  97.0   0.9951  3.26       0.44   \n",
       "3                 47.0                 186.0   0.9956  3.19       0.40   \n",
       "4                 47.0                 186.0   0.9956  3.19       0.40   \n",
       "\n",
       "   alcohol  quality  volatile acidity Ratio  \n",
       "0      8.8        6                    0.04  \n",
       "1      9.5        6                    0.05  \n",
       "2     10.1        6                    0.03  \n",
       "3      9.9        6                    0.03  \n",
       "4      9.9        6                    0.03  "
      ]
     },
     "execution_count": 15,
     "metadata": {},
     "output_type": "execute_result"
    }
   ],
   "source": [
    "df.head()"
   ]
  },
  {
   "cell_type": "markdown",
   "id": "f6ae2300-54de-4504-be09-9b484c05c2ad",
   "metadata": {},
   "source": [
    "I dont think there is any scope to perform more feature engineering"
   ]
  },
  {
   "cell_type": "markdown",
   "id": "85df074e-2878-4ec4-ae0d-24dc3ab937d4",
   "metadata": {},
   "source": [
    "The next step we are going to do is to find the best feature which significantly impacts the quality"
   ]
  },
  {
   "cell_type": "markdown",
   "id": "5ef5440a-24f1-4aba-ab05-7af3134288ec",
   "metadata": {},
   "source": [
    "We don't need to label encode as the values aren't categorical "
   ]
  },
  {
   "cell_type": "code",
   "execution_count": 16,
   "id": "a8192ec5-4e5c-4d66-9246-363badf38b92",
   "metadata": {},
   "outputs": [],
   "source": [
    "from sklearn.feature_selection import chi2"
   ]
  },
  {
   "cell_type": "code",
   "execution_count": 17,
   "id": "c2feecd1-07d5-4b08-aaf3-60300c806fc1",
   "metadata": {},
   "outputs": [],
   "source": [
    "X = df.drop('quality',axis=1)\n",
    "y = df['quality']"
   ]
  },
  {
   "cell_type": "code",
   "execution_count": 18,
   "id": "fe4446da-cf53-4ecb-a1db-cf4bb337c911",
   "metadata": {},
   "outputs": [],
   "source": [
    "chi_scores = chi2(X,y)"
   ]
  },
  {
   "cell_type": "code",
   "execution_count": 19,
   "id": "72251e67-de13-4f43-99d7-00d00ebd9999",
   "metadata": {},
   "outputs": [
    {
     "data": {
      "text/plain": [
       "(array([7.92204173e+00, 1.26226360e+01, 8.51118028e-01, 5.01235224e+02,\n",
       "        2.52900536e+00, 9.47712845e+02, 3.35829843e+03, 5.06505644e-03,\n",
       "        4.28745485e-01, 5.79205686e-01, 1.55078234e+02, 1.46491555e+00]),\n",
       " array([2.43870564e-001, 4.94356380e-002, 9.90632487e-001, 4.55630751e-105,\n",
       "        8.65207484e-001, 1.81495996e-201, 0.00000000e+000, 9.99999997e-001,\n",
       "        9.98600701e-001, 9.96736967e-001, 6.52231567e-031, 9.61790939e-001]))"
      ]
     },
     "execution_count": 19,
     "metadata": {},
     "output_type": "execute_result"
    }
   ],
   "source": [
    "chi_scores"
   ]
  },
  {
   "cell_type": "code",
   "execution_count": 20,
   "id": "4c2468f1-3350-464e-9eec-117bf079bd15",
   "metadata": {},
   "outputs": [],
   "source": [
    "p_values = pd.Series(chi_scores[1],index = X.columns)\n",
    "p_values.sort_values(ascending = False , inplace = True)"
   ]
  },
  {
   "cell_type": "code",
   "execution_count": 21,
   "id": "4e242cd9-9e1a-4ea9-9970-d3fe20a521b2",
   "metadata": {},
   "outputs": [
    {
     "data": {
      "text/plain": [
       "<Axes: >"
      ]
     },
     "execution_count": 21,
     "metadata": {},
     "output_type": "execute_result"
    },
    {
     "data": {
      "image/png": "[encoded data removed]",
      "text/plain": [
       "<Figure size 1000x800 with 1 Axes>"
      ]
     },
     "metadata": {},
     "output_type": "display_data"
    }
   ],
   "source": [
    "p_values.plot.bar()"
   ]
  },
  {
   "cell_type": "markdown",
   "id": "628f97de-071c-4286-a0ad-d1d16166c273",
   "metadata": {},
   "source": [
    "Per the p values above,  density, pH, suplhates, citric acid, volatile acidity ratio and clorides are not statistically significant i.e. p-value > 0.5"
   ]
  },
  {
   "cell_type": "markdown",
   "id": "b18e3dd4-1836-4dd8-afb4-f11ea58b61bf",
   "metadata": {},
   "source": [
    "Our ultimate goal is to find 5 best feature to train the model"
   ]
  },
  {
   "cell_type": "markdown",
   "id": "d0c10b88-0615-4260-b03a-9f16f6949756",
   "metadata": {},
   "source": [
    "Use a chi2 selector to pick the five best features for this data"
   ]
  },
  {
   "cell_type": "markdown",
   "id": "de67014e-38a3-4e65-9e1c-1c05ddcd6737",
   "metadata": {},
   "source": [
    "Some of the commonly used score_func functions in SelectKBest:\n",
    "\n",
    "* f_regression: It is used for linear regression problems and computes F-value between feature and target.\n",
    "* mutual_info_regression: It is used for regression problems and computes mutual information between two random variables.\n",
    "* f_classif: It is used for classification problems and computes ANOVA F-value between feature and target.\n",
    "* mutual_info_classif: It is used for classification problems and computes mutual information between two discrete variables.\n",
    "* chi2: It is used for classification problems and computes chi-squared statistics between each feature and target.\n",
    "* SelectPercentile: It is used to select the highest X% of the features based on the score_func."
   ]
  },
  {
   "cell_type": "markdown",
   "id": "f9efec1f-1c15-4bf8-9d58-73d437df4a2c",
   "metadata": {},
   "source": [
    "Because our problem best fits into classifcation problem, classes being rating between 1 and 10, we are going to use chi2 score function here"
   ]
  },
  {
   "cell_type": "code",
   "execution_count": 22,
   "id": "ced0abe0-7291-4bcd-8977-bdc16b306d8e",
   "metadata": {},
   "outputs": [],
   "source": [
    "from sklearn.feature_selection import SelectKBest"
   ]
  },
  {
   "cell_type": "code",
   "execution_count": 23,
   "id": "bb2741bf-6c6c-47fe-9775-684f9edf655b",
   "metadata": {},
   "outputs": [],
   "source": [
    "sel5 = SelectKBest(score_func=chi2, k=5)\n",
    "clf = sel5.fit(df.fillna(0),y)"
   ]
  },
  {
   "cell_type": "code",
   "execution_count": 24,
   "id": "001225ea-aaa3-4cd3-a0fc-6c5c7e4ec4e2",
   "metadata": {},
   "outputs": [],
   "source": [
    "df.columns[sel5.get_support()].to_numpy()\n",
    "df3 = sel5.transform(df)\n",
    "df3 = pd.DataFrame(df3)"
   ]
  },
  {
   "cell_type": "markdown",
   "id": "b4fc6d48-19da-4f26-984c-839343912d1a",
   "metadata": {},
   "source": [
    "Let's find the Best Feature selected by the KBest"
   ]
  },
  {
   "cell_type": "code",
   "execution_count": 25,
   "id": "5df52114-64bd-4460-a003-fbab13230aab",
   "metadata": {},
   "outputs": [
    {
     "name": "stdout",
     "output_type": "stream",
     "text": [
      "['residual sugar' 'free sulfur dioxide' 'total sulfur dioxide' 'alcohol'\n",
      " 'quality']\n"
     ]
    }
   ],
   "source": [
    "features_names = clf.get_feature_names_out()\n",
    "print(features_names)"
   ]
  },
  {
   "cell_type": "markdown",
   "id": "956752f5-d8d7-471d-ac81-120d3df1c044",
   "metadata": {},
   "source": [
    "let's change the column names"
   ]
  },
  {
   "cell_type": "code",
   "execution_count": 26,
   "id": "82e82ed6-1c62-4220-bb9e-feeaa38c67c0",
   "metadata": {},
   "outputs": [],
   "source": [
    "df3.columns = features_names"
   ]
  },
  {
   "cell_type": "code",
   "execution_count": 27,
   "id": "b492e043-b991-4230-be58-42b4d2b1d4f5",
   "metadata": {},
   "outputs": [
    {
     "data": {
      "text/html": [
       "<div>\n",
       "<style scoped>\n",
       "    .dataframe tbody tr th:only-of-type {\n",
       "        vertical-align: middle;\n",
       "    }\n",
       "\n",
       "    .dataframe tbody tr th {\n",
       "        vertical-align: top;\n",
       "    }\n",
       "\n",
       "    .dataframe thead th {\n",
       "        text-align: right;\n",
       "    }\n",
       "</style>\n",
       "<table border=\"1\" class=\"dataframe\">\n",
       "  <thead>\n",
       "    <tr style=\"text-align: right;\">\n",
       "      <th></th>\n",
       "      <th>residual sugar</th>\n",
       "      <th>free sulfur dioxide</th>\n",
       "      <th>total sulfur dioxide</th>\n",
       "      <th>alcohol</th>\n",
       "      <th>quality</th>\n",
       "    </tr>\n",
       "  </thead>\n",
       "  <tbody>\n",
       "    <tr>\n",
       "      <th>0</th>\n",
       "      <td>20.7</td>\n",
       "      <td>45.0</td>\n",
       "      <td>170.0</td>\n",
       "      <td>8.8</td>\n",
       "      <td>6.0</td>\n",
       "    </tr>\n",
       "    <tr>\n",
       "      <th>1</th>\n",
       "      <td>1.6</td>\n",
       "      <td>14.0</td>\n",
       "      <td>132.0</td>\n",
       "      <td>9.5</td>\n",
       "      <td>6.0</td>\n",
       "    </tr>\n",
       "    <tr>\n",
       "      <th>2</th>\n",
       "      <td>6.9</td>\n",
       "      <td>30.0</td>\n",
       "      <td>97.0</td>\n",
       "      <td>10.1</td>\n",
       "      <td>6.0</td>\n",
       "    </tr>\n",
       "    <tr>\n",
       "      <th>3</th>\n",
       "      <td>8.5</td>\n",
       "      <td>47.0</td>\n",
       "      <td>186.0</td>\n",
       "      <td>9.9</td>\n",
       "      <td>6.0</td>\n",
       "    </tr>\n",
       "    <tr>\n",
       "      <th>4</th>\n",
       "      <td>8.5</td>\n",
       "      <td>47.0</td>\n",
       "      <td>186.0</td>\n",
       "      <td>9.9</td>\n",
       "      <td>6.0</td>\n",
       "    </tr>\n",
       "  </tbody>\n",
       "</table>\n",
       "</div>"
      ],
      "text/plain": [
       "   residual sugar  free sulfur dioxide  total sulfur dioxide  alcohol  quality\n",
       "0            20.7                 45.0                 170.0      8.8      6.0\n",
       "1             1.6                 14.0                 132.0      9.5      6.0\n",
       "2             6.9                 30.0                  97.0     10.1      6.0\n",
       "3             8.5                 47.0                 186.0      9.9      6.0\n",
       "4             8.5                 47.0                 186.0      9.9      6.0"
      ]
     },
     "execution_count": 27,
     "metadata": {},
     "output_type": "execute_result"
    }
   ],
   "source": [
    "df3.head()"
   ]
  },
  {
   "cell_type": "markdown",
   "id": "4d2395d6-f197-4824-8e13-9e058eeccfb7",
   "metadata": {},
   "source": [
    "##### df3 is our final dataframe with the best features selected."
   ]
  },
  {
   "cell_type": "markdown",
   "id": "e61a8782-56c2-4620-bb6d-f6f79ba20a8c",
   "metadata": {},
   "source": [
    "<a id=\"milestone3\"></a>"
   ]
  },
  {
   "cell_type": "markdown",
   "id": "18d01096-f4d6-432a-b6bf-41a24cd2644c",
   "metadata": {},
   "source": [
    "#### Project Milestone 3"
   ]
  },
  {
   "cell_type": "markdown",
   "id": "f10b248e-197c-4434-a73d-d1c042acc600",
   "metadata": {},
   "source": [
    "Now that we have the best features selected we have to select the best Machine Learning algorithm for our classification problem."
   ]
  },
  {
   "cell_type": "markdown",
   "id": "448c7040-e8b4-4163-a41f-e3ad6d3233a1",
   "metadata": {},
   "source": [
    "Our data is labeled data and there is no dimentionality reduction for that reason it is going to be supervised algorithm."
   ]
  },
  {
   "cell_type": "markdown",
   "id": "a57aba4f-445f-433a-b36a-a271e68515b9",
   "metadata": {},
   "source": [
    "The target variable in the data is the quality rating, ranging between 1 to 10. This is a case of classfication. We should not be using linear regression"
   ]
  },
  {
   "cell_type": "markdown",
   "id": "0828bb41-b344-4c7e-9784-e949970b2d9f",
   "metadata": {},
   "source": [
    "Also, it is not a binary classfication hence the logistic regression should not be used"
   ]
  },
  {
   "cell_type": "markdown",
   "id": "025214d7-13ca-46cb-9cec-801185ec9566",
   "metadata": {},
   "source": [
    "We are going to use **K-Nearest Neighbor i.e. KNN, Random Forest Classifier and Support Vector Machine (SVM).** We will fine tune these models and pick the best model and the best parameters."
   ]
  },
  {
   "cell_type": "markdown",
   "id": "92dfda7e-6db2-4325-a252-c37917410188",
   "metadata": {},
   "source": [
    "**K-Nearest Neighbor i.e. KNN**"
   ]
  },
  {
   "cell_type": "markdown",
   "id": "a1044ccc-cb91-4658-b017-7e2d4c2aa1a5",
   "metadata": {},
   "source": [
    "The concept behind the KNN is simple. Given an unclassified point, we can assign it to a group by observing what group its nearest neighbors belong to. This means a point close to a cluster of points classified as ‘Red’ has a higher probability of getting classified as ‘Red’."
   ]
  },
  {
   "cell_type": "markdown",
   "id": "7f8dba05-f26c-4abf-876f-345d22db77d5",
   "metadata": {},
   "source": [
    "**Random Forest**"
   ]
  },
  {
   "cell_type": "markdown",
   "id": "d433a5a5-7cba-4caf-86e9-94395d79fcc2",
   "metadata": {},
   "source": [
    "The Random forest classifier creates a set of decision trees from a randomly selected subset of the training set. It is a set of decision trees (DT) from a randomly selected subset of the training set and then It collects the votes from different decision trees to decide the final prediction."
   ]
  },
  {
   "cell_type": "markdown",
   "id": "f08d7c5f-d794-45cb-9aa6-e9d7e16d13cc",
   "metadata": {},
   "source": [
    "**Support Vector Machine**"
   ]
  },
  {
   "cell_type": "markdown",
   "id": "5be336ef-aed7-4613-99f0-8f3b129784dd",
   "metadata": {},
   "source": [
    " The main objective of the SVM algorithm is to find the optimal hyperplane in an N-dimensional space that can separate the data points in different classes in the feature space. The hyperplane tries that the margin between the closest points of different classes should be as maximum as possible. The dimension of the hyperplane depends upon the number of features. If the number of input features is two, then the hyperplane is just a line. If the number of input features is three, then the hyperplane becomes a 2-D plane. It becomes difficult to imagine when the number of features exceeds three."
   ]
  },
  {
   "cell_type": "markdown",
   "id": "8eedb695-041d-4335-878e-ef83a737b9cd",
   "metadata": {},
   "source": [
    "SVM is about how do we choose the best line or in general the best hyperplane that segregates our data points."
   ]
  },
  {
   "cell_type": "markdown",
   "id": "5e8850ba-4cbf-4ca1-9194-59e56d0b7833",
   "metadata": {},
   "source": [
    "Let's import the packages"
   ]
  },
  {
   "cell_type": "code",
   "execution_count": 28,
   "id": "c236b090-0f34-4ea3-a54d-d1038eaa5cf0",
   "metadata": {},
   "outputs": [],
   "source": [
    "from sklearn.ensemble import RandomForestClassifier\n",
    "from sklearn import svm\n",
    "from sklearn.neighbors import KNeighborsClassifier\n",
    "from sklearn.metrics import confusion_matrix, f1_score, accuracy_score, roc_curve"
   ]
  },
  {
   "cell_type": "markdown",
   "id": "2606a611-ca89-41e1-a68c-8e288e3974a5",
   "metadata": {},
   "source": [
    "Let's try out different parameters. We are going to use GridSeacrhCV. GridSearchCV makes it easy to paranterised the models and come up with the best model, best score etc."
   ]
  },
  {
   "cell_type": "code",
   "execution_count": 29,
   "id": "171dd0ff-94a7-480f-a655-361d502b9b4e",
   "metadata": {},
   "outputs": [],
   "source": [
    "from sklearn.model_selection import GridSearchCV"
   ]
  },
  {
   "cell_type": "markdown",
   "id": "a8758e12-8fb0-447d-bc04-5b9a3e518835",
   "metadata": {},
   "source": [
    "Creating a parameters' JSON, we need this to pass to GridSearchCV."
   ]
  },
  {
   "cell_type": "code",
   "execution_count": 30,
   "id": "57888a3d-bfb7-43a3-875a-c176fbd68bd2",
   "metadata": {},
   "outputs": [],
   "source": [
    "params = {\n",
    "    \"randomForest\": {\n",
    "    \"model\": RandomForestClassifier(),\n",
    "    \"params\": {\n",
    "            \"n_estimators\":[5, 10, 15]\n",
    "        }\n",
    "    },\n",
    "    \"KNN\": {\n",
    "    \"model\": KNeighborsClassifier(),\n",
    "    \"params\": {\n",
    "            \"n_neighbors\": range(5, 8)\n",
    "        }\n",
    "    }\n",
    "}"
   ]
  },
  {
   "cell_type": "code",
   "execution_count": 31,
   "id": "98d4b9fe-b59a-4e05-bd42-96e7d6090489",
   "metadata": {},
   "outputs": [],
   "source": [
    "from sklearn.model_selection import train_test_split"
   ]
  },
  {
   "cell_type": "code",
   "execution_count": 32,
   "id": "75053f87-6dba-483f-8c83-dd633cb5e29c",
   "metadata": {},
   "outputs": [],
   "source": [
    "y = df3['quality']\n",
    "X = df3.drop('quality', axis=1)\n",
    "\n",
    "# Split into training and test and validation set\n",
    "X_train, X_test, y_train, y_test = train_test_split(X, y, test_size=0.3, random_state=42)\n",
    "X_train_val, X_test_val, y_train_val, y_test_val = train_test_split(X, y, test_size=0.25, random_state=42)"
   ]
  },
  {
   "cell_type": "code",
   "execution_count": 33,
   "id": "0917b731-498c-4395-b5d2-6eb8f3841058",
   "metadata": {},
   "outputs": [],
   "source": [
    "scores = []"
   ]
  },
  {
   "cell_type": "code",
   "execution_count": 34,
   "id": "16306a0d-41ea-4cc4-a36a-f86ddbe44209",
   "metadata": {},
   "outputs": [
    {
     "name": "stdout",
     "output_type": "stream",
     "text": [
      "          model  best_score           best_params\n",
      "0  randomForest     0.60093  {'n_estimators': 15}\n",
      "Test Set accuracy score is 0.6129251700680272\n",
      "Test Set F1 score is 0.6129251700680272\n",
      "Let's check scores on a validation set\n",
      "Validation Set accuracy score is 0.6138775510204082\n",
      "Validation F1 score is 0.6138775510204082\n",
      "          model  best_score           best_params\n",
      "0  randomForest    0.600930  {'n_estimators': 15}\n",
      "1           KNN    0.459739    {'n_neighbors': 6}\n",
      "Test Set accuracy score is 0.44693877551020406\n",
      "Test Set F1 score is 0.44693877551020406\n",
      "Let's check scores on a validation set\n",
      "Validation Set accuracy score is 0.4448979591836735\n",
      "Validation F1 score is 0.4448979591836735\n"
     ]
    }
   ],
   "source": [
    "for model_name , model_params in params.items():\n",
    "    model_func = GridSearchCV(model_params[\"model\"], model_params[\"params\"], cv=5 , return_train_score=False)\n",
    "    model_func.fit(X_train, y_train)\n",
    "    scores.append({\"model\":model_name,\n",
    "                 \"best_score\": model_func.best_score_,\n",
    "                 \"best_params\": model_func.best_params_})\n",
    "    scores_df = pd.DataFrame(scores)\n",
    "    print(scores_df)\n",
    "    \n",
    "    y_pred = model_func.predict(X_test)\n",
    "    print(\"Test Set accuracy score is\", accuracy_score(y_test, y_pred))\n",
    "    print(\"Test Set F1 score is\", f1_score(y_test, y_pred, average='micro'))\n",
    "    \n",
    "\n",
    "    print (\"Let's check scores on a validation set\")\n",
    "    y_pred_val = model_func.predict(X_test_val)\n",
    "    \n",
    "    print(\"Validation Set accuracy score is\", accuracy_score(y_test_val, y_pred_val))\n",
    "    print(\"Validation F1 score is\", f1_score(y_test_val, y_pred_val, average='micro'))\n",
    "    \n",
    "    "
   ]
  },
  {
   "cell_type": "markdown",
   "id": "93958a5e-f3cc-41f1-9055-9d17f86d5180",
   "metadata": {},
   "source": [
    "If you see the scores after the hyperparameter tuning , it is clear that Random Forest is our best model with the parameter as n_estimators = 15"
   ]
  },
  {
   "cell_type": "markdown",
   "id": "95cd0127-15ab-40e5-978d-8c851e2c92ec",
   "metadata": {},
   "source": [
    "Let's try different params with random forest model"
   ]
  },
  {
   "cell_type": "code",
   "execution_count": 35,
   "id": "0a355f03-59a8-4341-84a5-0d2a10b54b21",
   "metadata": {},
   "outputs": [
    {
     "name": "stderr",
     "output_type": "stream",
     "text": [
      "C:\\Users\\swapn\\AppData\\Local\\Programs\\Python\\Python312\\Lib\\site-packages\\sklearn\\model_selection\\_validation.py:547: FitFailedWarning: \n",
      "90 fits failed out of a total of 180.\n",
      "The score on these train-test partitions for these parameters will be set to nan.\n",
      "If these failures are not expected, you can try to debug them by setting error_score='raise'.\n",
      "\n",
      "Below are more details about the failures:\n",
      "--------------------------------------------------------------------------------\n",
      "26 fits failed with the following error:\n",
      "Traceback (most recent call last):\n",
      "  File \"C:\\Users\\swapn\\AppData\\Local\\Programs\\Python\\Python312\\Lib\\site-packages\\sklearn\\model_selection\\_validation.py\", line 895, in _fit_and_score\n",
      "    estimator.fit(X_train, y_train, **fit_params)\n",
      "  File \"C:\\Users\\swapn\\AppData\\Local\\Programs\\Python\\Python312\\Lib\\site-packages\\sklearn\\base.py\", line 1467, in wrapper\n",
      "    estimator._validate_params()\n",
      "  File \"C:\\Users\\swapn\\AppData\\Local\\Programs\\Python\\Python312\\Lib\\site-packages\\sklearn\\base.py\", line 666, in _validate_params\n",
      "    validate_parameter_constraints(\n",
      "  File \"C:\\Users\\swapn\\AppData\\Local\\Programs\\Python\\Python312\\Lib\\site-packages\\sklearn\\utils\\_param_validation.py\", line 95, in validate_parameter_constraints\n",
      "    raise InvalidParameterError(\n",
      "sklearn.utils._param_validation.InvalidParameterError: The 'max_features' parameter of RandomForestClassifier must be an int in the range [1, inf), a float in the range (0.0, 1.0], a str among {'sqrt', 'log2'} or None. Got 'auto' instead.\n",
      "\n",
      "--------------------------------------------------------------------------------\n",
      "64 fits failed with the following error:\n",
      "Traceback (most recent call last):\n",
      "  File \"C:\\Users\\swapn\\AppData\\Local\\Programs\\Python\\Python312\\Lib\\site-packages\\sklearn\\model_selection\\_validation.py\", line 895, in _fit_and_score\n",
      "    estimator.fit(X_train, y_train, **fit_params)\n",
      "  File \"C:\\Users\\swapn\\AppData\\Local\\Programs\\Python\\Python312\\Lib\\site-packages\\sklearn\\base.py\", line 1467, in wrapper\n",
      "    estimator._validate_params()\n",
      "  File \"C:\\Users\\swapn\\AppData\\Local\\Programs\\Python\\Python312\\Lib\\site-packages\\sklearn\\base.py\", line 666, in _validate_params\n",
      "    validate_parameter_constraints(\n",
      "  File \"C:\\Users\\swapn\\AppData\\Local\\Programs\\Python\\Python312\\Lib\\site-packages\\sklearn\\utils\\_param_validation.py\", line 95, in validate_parameter_constraints\n",
      "    raise InvalidParameterError(\n",
      "sklearn.utils._param_validation.InvalidParameterError: The 'max_features' parameter of RandomForestClassifier must be an int in the range [1, inf), a float in the range (0.0, 1.0], a str among {'log2', 'sqrt'} or None. Got 'auto' instead.\n",
      "\n",
      "  warnings.warn(some_fits_failed_message, FitFailedWarning)\n",
      "C:\\Users\\swapn\\AppData\\Local\\Programs\\Python\\Python312\\Lib\\site-packages\\sklearn\\model_selection\\_search.py:1051: UserWarning: One or more of the test scores are non-finite: [       nan        nan        nan 0.58604371 0.58925581 0.59275521\n",
      "        nan        nan        nan 0.612888   0.60647188 0.61142857\n",
      "        nan        nan        nan 0.60559724 0.60588453 0.60909408\n",
      "        nan        nan        nan 0.59304548 0.59509012 0.5936324\n",
      "        nan        nan        nan 0.60821945 0.61113575 0.60997085\n",
      "        nan        nan        nan 0.61200741 0.60763508 0.61230534]\n",
      "  warnings.warn(\n"
     ]
    },
    {
     "data": {
      "text/html": [
       "<style>#sk-container-id-1 {\n",
       "  /* Definition of color scheme common for light and dark mode */\n",
       "  --sklearn-color-text: black;\n",
       "  --sklearn-color-line: gray;\n",
       "  /* Definition of color scheme for unfitted estimators */\n",
       "  --sklearn-color-unfitted-level-0: #fff5e6;\n",
       "  --sklearn-color-unfitted-level-1: #f6e4d2;\n",
       "  --sklearn-color-unfitted-level-2: #ffe0b3;\n",
       "  --sklearn-color-unfitted-level-3: chocolate;\n",
       "  /* Definition of color scheme for fitted estimators */\n",
       "  --sklearn-color-fitted-level-0: #f0f8ff;\n",
       "  --sklearn-color-fitted-level-1: #d4ebff;\n",
       "  --sklearn-color-fitted-level-2: #b3dbfd;\n",
       "  --sklearn-color-fitted-level-3: cornflowerblue;\n",
       "\n",
       "  /* Specific color for light theme */\n",
       "  --sklearn-color-text-on-default-background: var(--sg-text-color, var(--theme-code-foreground, var(--jp-content-font-color1, black)));\n",
       "  --sklearn-color-background: var(--sg-background-color, var(--theme-background, var(--jp-layout-color0, white)));\n",
       "  --sklearn-color-border-box: var(--sg-text-color, var(--theme-code-foreground, var(--jp-content-font-color1, black)));\n",
       "  --sklearn-color-icon: #696969;\n",
       "\n",
       "  @media (prefers-color-scheme: dark) {\n",
       "    /* Redefinition of color scheme for dark theme */\n",
       "    --sklearn-color-text-on-default-background: var(--sg-text-color, var(--theme-code-foreground, var(--jp-content-font-color1, white)));\n",
       "    --sklearn-color-background: var(--sg-background-color, var(--theme-background, var(--jp-layout-color0, #111)));\n",
       "    --sklearn-color-border-box: var(--sg-text-color, var(--theme-code-foreground, var(--jp-content-font-color1, white)));\n",
       "    --sklearn-color-icon: #878787;\n",
       "  }\n",
       "}\n",
       "\n",
       "#sk-container-id-1 {\n",
       "  color: var(--sklearn-color-text);\n",
       "}\n",
       "\n",
       "#sk-container-id-1 pre {\n",
       "  padding: 0;\n",
       "}\n",
       "\n",
       "#sk-container-id-1 input.sk-hidden--visually {\n",
       "  border: 0;\n",
       "  clip: rect(1px 1px 1px 1px);\n",
       "  clip: rect(1px, 1px, 1px, 1px);\n",
       "  height: 1px;\n",
       "  margin: -1px;\n",
       "  overflow: hidden;\n",
       "  padding: 0;\n",
       "  position: absolute;\n",
       "  width: 1px;\n",
       "}\n",
       "\n",
       "#sk-container-id-1 div.sk-dashed-wrapped {\n",
       "  border: 1px dashed var(--sklearn-color-line);\n",
       "  margin: 0 0.4em 0.5em 0.4em;\n",
       "  box-sizing: border-box;\n",
       "  padding-bottom: 0.4em;\n",
       "  background-color: var(--sklearn-color-background);\n",
       "}\n",
       "\n",
       "#sk-container-id-1 div.sk-container {\n",
       "  /* jupyter's `normalize.less` sets `[hidden] { display: none; }`\n",
       "     but bootstrap.min.css set `[hidden] { display: none !important; }`\n",
       "     so we also need the `!important` here to be able to override the\n",
       "     default hidden behavior on the sphinx rendered scikit-learn.org.\n",
       "     See: https://github.com/scikit-learn/scikit-learn/issues/21755 */\n",
       "  display: inline-block !important;\n",
       "  position: relative;\n",
       "}\n",
       "\n",
       "#sk-container-id-1 div.sk-text-repr-fallback {\n",
       "  display: none;\n",
       "}\n",
       "\n",
       "div.sk-parallel-item,\n",
       "div.sk-serial,\n",
       "div.sk-item {\n",
       "  /* draw centered vertical line to link estimators */\n",
       "  background-image: linear-gradient(var(--sklearn-color-text-on-default-background), var(--sklearn-color-text-on-default-background));\n",
       "  background-size: 2px 100%;\n",
       "  background-repeat: no-repeat;\n",
       "  background-position: center center;\n",
       "}\n",
       "\n",
       "/* Parallel-specific style estimator block */\n",
       "\n",
       "#sk-container-id-1 div.sk-parallel-item::after {\n",
       "  content: \"\";\n",
       "  width: 100%;\n",
       "  border-bottom: 2px solid var(--sklearn-color-text-on-default-background);\n",
       "  flex-grow: 1;\n",
       "}\n",
       "\n",
       "#sk-container-id-1 div.sk-parallel {\n",
       "  display: flex;\n",
       "  align-items: stretch;\n",
       "  justify-content: center;\n",
       "  background-color: var(--sklearn-color-background);\n",
       "  position: relative;\n",
       "}\n",
       "\n",
       "#sk-container-id-1 div.sk-parallel-item {\n",
       "  display: flex;\n",
       "  flex-direction: column;\n",
       "}\n",
       "\n",
       "#sk-container-id-1 div.sk-parallel-item:first-child::after {\n",
       "  align-self: flex-end;\n",
       "  width: 50%;\n",
       "}\n",
       "\n",
       "#sk-container-id-1 div.sk-parallel-item:last-child::after {\n",
       "  align-self: flex-start;\n",
       "  width: 50%;\n",
       "}\n",
       "\n",
       "#sk-container-id-1 div.sk-parallel-item:only-child::after {\n",
       "  width: 0;\n",
       "}\n",
       "\n",
       "/* Serial-specific style estimator block */\n",
       "\n",
       "#sk-container-id-1 div.sk-serial {\n",
       "  display: flex;\n",
       "  flex-direction: column;\n",
       "  align-items: center;\n",
       "  background-color: var(--sklearn-color-background);\n",
       "  padding-right: 1em;\n",
       "  padding-left: 1em;\n",
       "}\n",
       "\n",
       "\n",
       "/* Toggleable style: style used for estimator/Pipeline/ColumnTransformer box that is\n",
       "clickable and can be expanded/collapsed.\n",
       "- Pipeline and ColumnTransformer use this feature and define the default style\n",
       "- Estimators will overwrite some part of the style using the `sk-estimator` class\n",
       "*/\n",
       "\n",
       "/* Pipeline and ColumnTransformer style (default) */\n",
       "\n",
       "#sk-container-id-1 div.sk-toggleable {\n",
       "  /* Default theme specific background. It is overwritten whether we have a\n",
       "  specific estimator or a Pipeline/ColumnTransformer */\n",
       "  background-color: var(--sklearn-color-background);\n",
       "}\n",
       "\n",
       "/* Toggleable label */\n",
       "#sk-container-id-1 label.sk-toggleable__label {\n",
       "  cursor: pointer;\n",
       "  display: block;\n",
       "  width: 100%;\n",
       "  margin-bottom: 0;\n",
       "  padding: 0.5em;\n",
       "  box-sizing: border-box;\n",
       "  text-align: center;\n",
       "}\n",
       "\n",
       "#sk-container-id-1 label.sk-toggleable__label-arrow:before {\n",
       "  /* Arrow on the left of the label */\n",
       "  content: \"▸\";\n",
       "  float: left;\n",
       "  margin-right: 0.25em;\n",
       "  color: var(--sklearn-color-icon);\n",
       "}\n",
       "\n",
       "#sk-container-id-1 label.sk-toggleable__label-arrow:hover:before {\n",
       "  color: var(--sklearn-color-text);\n",
       "}\n",
       "\n",
       "/* Toggleable content - dropdown */\n",
       "\n",
       "#sk-container-id-1 div.sk-toggleable__content {\n",
       "  max-height: 0;\n",
       "  max-width: 0;\n",
       "  overflow: hidden;\n",
       "  text-align: left;\n",
       "  /* unfitted */\n",
       "  background-color: var(--sklearn-color-unfitted-level-0);\n",
       "}\n",
       "\n",
       "#sk-container-id-1 div.sk-toggleable__content.fitted {\n",
       "  /* fitted */\n",
       "  background-color: var(--sklearn-color-fitted-level-0);\n",
       "}\n",
       "\n",
       "#sk-container-id-1 div.sk-toggleable__content pre {\n",
       "  margin: 0.2em;\n",
       "  border-radius: 0.25em;\n",
       "  color: var(--sklearn-color-text);\n",
       "  /* unfitted */\n",
       "  background-color: var(--sklearn-color-unfitted-level-0);\n",
       "}\n",
       "\n",
       "#sk-container-id-1 div.sk-toggleable__content.fitted pre {\n",
       "  /* unfitted */\n",
       "  background-color: var(--sklearn-color-fitted-level-0);\n",
       "}\n",
       "\n",
       "#sk-container-id-1 input.sk-toggleable__control:checked~div.sk-toggleable__content {\n",
       "  /* Expand drop-down */\n",
       "  max-height: 200px;\n",
       "  max-width: 100%;\n",
       "  overflow: auto;\n",
       "}\n",
       "\n",
       "#sk-container-id-1 input.sk-toggleable__control:checked~label.sk-toggleable__label-arrow:before {\n",
       "  content: \"▾\";\n",
       "}\n",
       "\n",
       "/* Pipeline/ColumnTransformer-specific style */\n",
       "\n",
       "#sk-container-id-1 div.sk-label input.sk-toggleable__control:checked~label.sk-toggleable__label {\n",
       "  color: var(--sklearn-color-text);\n",
       "  background-color: var(--sklearn-color-unfitted-level-2);\n",
       "}\n",
       "\n",
       "#sk-container-id-1 div.sk-label.fitted input.sk-toggleable__control:checked~label.sk-toggleable__label {\n",
       "  background-color: var(--sklearn-color-fitted-level-2);\n",
       "}\n",
       "\n",
       "/* Estimator-specific style */\n",
       "\n",
       "/* Colorize estimator box */\n",
       "#sk-container-id-1 div.sk-estimator input.sk-toggleable__control:checked~label.sk-toggleable__label {\n",
       "  /* unfitted */\n",
       "  background-color: var(--sklearn-color-unfitted-level-2);\n",
       "}\n",
       "\n",
       "#sk-container-id-1 div.sk-estimator.fitted input.sk-toggleable__control:checked~label.sk-toggleable__label {\n",
       "  /* fitted */\n",
       "  background-color: var(--sklearn-color-fitted-level-2);\n",
       "}\n",
       "\n",
       "#sk-container-id-1 div.sk-label label.sk-toggleable__label,\n",
       "#sk-container-id-1 div.sk-label label {\n",
       "  /* The background is the default theme color */\n",
       "  color: var(--sklearn-color-text-on-default-background);\n",
       "}\n",
       "\n",
       "/* On hover, darken the color of the background */\n",
       "#sk-container-id-1 div.sk-label:hover label.sk-toggleable__label {\n",
       "  color: var(--sklearn-color-text);\n",
       "  background-color: var(--sklearn-color-unfitted-level-2);\n",
       "}\n",
       "\n",
       "/* Label box, darken color on hover, fitted */\n",
       "#sk-container-id-1 div.sk-label.fitted:hover label.sk-toggleable__label.fitted {\n",
       "  color: var(--sklearn-color-text);\n",
       "  background-color: var(--sklearn-color-fitted-level-2);\n",
       "}\n",
       "\n",
       "/* Estimator label */\n",
       "\n",
       "#sk-container-id-1 div.sk-label label {\n",
       "  font-family: monospace;\n",
       "  font-weight: bold;\n",
       "  display: inline-block;\n",
       "  line-height: 1.2em;\n",
       "}\n",
       "\n",
       "#sk-container-id-1 div.sk-label-container {\n",
       "  text-align: center;\n",
       "}\n",
       "\n",
       "/* Estimator-specific */\n",
       "#sk-container-id-1 div.sk-estimator {\n",
       "  font-family: monospace;\n",
       "  border: 1px dotted var(--sklearn-color-border-box);\n",
       "  border-radius: 0.25em;\n",
       "  box-sizing: border-box;\n",
       "  margin-bottom: 0.5em;\n",
       "  /* unfitted */\n",
       "  background-color: var(--sklearn-color-unfitted-level-0);\n",
       "}\n",
       "\n",
       "#sk-container-id-1 div.sk-estimator.fitted {\n",
       "  /* fitted */\n",
       "  background-color: var(--sklearn-color-fitted-level-0);\n",
       "}\n",
       "\n",
       "/* on hover */\n",
       "#sk-container-id-1 div.sk-estimator:hover {\n",
       "  /* unfitted */\n",
       "  background-color: var(--sklearn-color-unfitted-level-2);\n",
       "}\n",
       "\n",
       "#sk-container-id-1 div.sk-estimator.fitted:hover {\n",
       "  /* fitted */\n",
       "  background-color: var(--sklearn-color-fitted-level-2);\n",
       "}\n",
       "\n",
       "/* Specification for estimator info (e.g. \"i\" and \"?\") */\n",
       "\n",
       "/* Common style for \"i\" and \"?\" */\n",
       "\n",
       ".sk-estimator-doc-link,\n",
       "a:link.sk-estimator-doc-link,\n",
       "a:visited.sk-estimator-doc-link {\n",
       "  float: right;\n",
       "  font-size: smaller;\n",
       "  line-height: 1em;\n",
       "  font-family: monospace;\n",
       "  background-color: var(--sklearn-color-background);\n",
       "  border-radius: 1em;\n",
       "  height: 1em;\n",
       "  width: 1em;\n",
       "  text-decoration: none !important;\n",
       "  margin-left: 1ex;\n",
       "  /* unfitted */\n",
       "  border: var(--sklearn-color-unfitted-level-1) 1pt solid;\n",
       "  color: var(--sklearn-color-unfitted-level-1);\n",
       "}\n",
       "\n",
       ".sk-estimator-doc-link.fitted,\n",
       "a:link.sk-estimator-doc-link.fitted,\n",
       "a:visited.sk-estimator-doc-link.fitted {\n",
       "  /* fitted */\n",
       "  border: var(--sklearn-color-fitted-level-1) 1pt solid;\n",
       "  color: var(--sklearn-color-fitted-level-1);\n",
       "}\n",
       "\n",
       "/* On hover */\n",
       "div.sk-estimator:hover .sk-estimator-doc-link:hover,\n",
       ".sk-estimator-doc-link:hover,\n",
       "div.sk-label-container:hover .sk-estimator-doc-link:hover,\n",
       ".sk-estimator-doc-link:hover {\n",
       "  /* unfitted */\n",
       "  background-color: var(--sklearn-color-unfitted-level-3);\n",
       "  color: var(--sklearn-color-background);\n",
       "  text-decoration: none;\n",
       "}\n",
       "\n",
       "div.sk-estimator.fitted:hover .sk-estimator-doc-link.fitted:hover,\n",
       ".sk-estimator-doc-link.fitted:hover,\n",
       "div.sk-label-container:hover .sk-estimator-doc-link.fitted:hover,\n",
       ".sk-estimator-doc-link.fitted:hover {\n",
       "  /* fitted */\n",
       "  background-color: var(--sklearn-color-fitted-level-3);\n",
       "  color: var(--sklearn-color-background);\n",
       "  text-decoration: none;\n",
       "}\n",
       "\n",
       "/* Span, style for the box shown on hovering the info icon */\n",
       ".sk-estimator-doc-link span {\n",
       "  display: none;\n",
       "  z-index: 9999;\n",
       "  position: relative;\n",
       "  font-weight: normal;\n",
       "  right: .2ex;\n",
       "  padding: .5ex;\n",
       "  margin: .5ex;\n",
       "  width: min-content;\n",
       "  min-width: 20ex;\n",
       "  max-width: 50ex;\n",
       "  color: var(--sklearn-color-text);\n",
       "  box-shadow: 2pt 2pt 4pt #999;\n",
       "  /* unfitted */\n",
       "  background: var(--sklearn-color-unfitted-level-0);\n",
       "  border: .5pt solid var(--sklearn-color-unfitted-level-3);\n",
       "}\n",
       "\n",
       ".sk-estimator-doc-link.fitted span {\n",
       "  /* fitted */\n",
       "  background: var(--sklearn-color-fitted-level-0);\n",
       "  border: var(--sklearn-color-fitted-level-3);\n",
       "}\n",
       "\n",
       ".sk-estimator-doc-link:hover span {\n",
       "  display: block;\n",
       "}\n",
       "\n",
       "/* \"?\"-specific style due to the `<a>` HTML tag */\n",
       "\n",
       "#sk-container-id-1 a.estimator_doc_link {\n",
       "  float: right;\n",
       "  font-size: 1rem;\n",
       "  line-height: 1em;\n",
       "  font-family: monospace;\n",
       "  background-color: var(--sklearn-color-background);\n",
       "  border-radius: 1rem;\n",
       "  height: 1rem;\n",
       "  width: 1rem;\n",
       "  text-decoration: none;\n",
       "  /* unfitted */\n",
       "  color: var(--sklearn-color-unfitted-level-1);\n",
       "  border: var(--sklearn-color-unfitted-level-1) 1pt solid;\n",
       "}\n",
       "\n",
       "#sk-container-id-1 a.estimator_doc_link.fitted {\n",
       "  /* fitted */\n",
       "  border: var(--sklearn-color-fitted-level-1) 1pt solid;\n",
       "  color: var(--sklearn-color-fitted-level-1);\n",
       "}\n",
       "\n",
       "/* On hover */\n",
       "#sk-container-id-1 a.estimator_doc_link:hover {\n",
       "  /* unfitted */\n",
       "  background-color: var(--sklearn-color-unfitted-level-3);\n",
       "  color: var(--sklearn-color-background);\n",
       "  text-decoration: none;\n",
       "}\n",
       "\n",
       "#sk-container-id-1 a.estimator_doc_link.fitted:hover {\n",
       "  /* fitted */\n",
       "  background-color: var(--sklearn-color-fitted-level-3);\n",
       "}\n",
       "</style><div id=\"sk-container-id-1\" class=\"sk-top-container\"><div class=\"sk-text-repr-fallback\"><pre>GridSearchCV(estimator=RandomForestClassifier(), n_jobs=2,\n",
       "             param_grid={&#x27;criterion&#x27;: [&#x27;gini&#x27;, &#x27;entropy&#x27;],\n",
       "                         &#x27;max_depth&#x27;: [10, 20, None],\n",
       "                         &#x27;max_features&#x27;: [&#x27;auto&#x27;, &#x27;sqrt&#x27;],\n",
       "                         &#x27;n_estimators&#x27;: [100, 200, 300]})</pre><b>In a Jupyter environment, please rerun this cell to show the HTML representation or trust the notebook. <br />On GitHub, the HTML representation is unable to render, please try loading this page with nbviewer.org.</b></div><div class=\"sk-container\" hidden><div class=\"sk-item sk-dashed-wrapped\"><div class=\"sk-label-container\"><div class=\"sk-label fitted sk-toggleable\"><input class=\"sk-toggleable__control sk-hidden--visually\" id=\"sk-estimator-id-1\" type=\"checkbox\" ><label for=\"sk-estimator-id-1\" class=\"sk-toggleable__label fitted sk-toggleable__label-arrow fitted\">&nbsp;&nbsp;GridSearchCV<a class=\"sk-estimator-doc-link fitted\" rel=\"noreferrer\" target=\"_blank\" href=\"https://scikit-learn.org/1.4/modules/generated/sklearn.model_selection.GridSearchCV.html\">?<span>Documentation for GridSearchCV</span></a><span class=\"sk-estimator-doc-link fitted\">i<span>Fitted</span></span></label><div class=\"sk-toggleable__content fitted\"><pre>GridSearchCV(estimator=RandomForestClassifier(), n_jobs=2,\n",
       "             param_grid={&#x27;criterion&#x27;: [&#x27;gini&#x27;, &#x27;entropy&#x27;],\n",
       "                         &#x27;max_depth&#x27;: [10, 20, None],\n",
       "                         &#x27;max_features&#x27;: [&#x27;auto&#x27;, &#x27;sqrt&#x27;],\n",
       "                         &#x27;n_estimators&#x27;: [100, 200, 300]})</pre></div> </div></div><div class=\"sk-parallel\"><div class=\"sk-parallel-item\"><div class=\"sk-item\"><div class=\"sk-label-container\"><div class=\"sk-label fitted sk-toggleable\"><input class=\"sk-toggleable__control sk-hidden--visually\" id=\"sk-estimator-id-2\" type=\"checkbox\" ><label for=\"sk-estimator-id-2\" class=\"sk-toggleable__label fitted sk-toggleable__label-arrow fitted\">estimator: RandomForestClassifier</label><div class=\"sk-toggleable__content fitted\"><pre>RandomForestClassifier()</pre></div> </div></div><div class=\"sk-serial\"><div class=\"sk-item\"><div class=\"sk-estimator fitted sk-toggleable\"><input class=\"sk-toggleable__control sk-hidden--visually\" id=\"sk-estimator-id-3\" type=\"checkbox\" ><label for=\"sk-estimator-id-3\" class=\"sk-toggleable__label fitted sk-toggleable__label-arrow fitted\">&nbsp;RandomForestClassifier<a class=\"sk-estimator-doc-link fitted\" rel=\"noreferrer\" target=\"_blank\" href=\"https://scikit-learn.org/1.4/modules/generated/sklearn.ensemble.RandomForestClassifier.html\">?<span>Documentation for RandomForestClassifier</span></a></label><div class=\"sk-toggleable__content fitted\"><pre>RandomForestClassifier()</pre></div> </div></div></div></div></div></div></div></div></div>"
      ],
      "text/plain": [
       "GridSearchCV(estimator=RandomForestClassifier(), n_jobs=2,\n",
       "             param_grid={'criterion': ['gini', 'entropy'],\n",
       "                         'max_depth': [10, 20, None],\n",
       "                         'max_features': ['auto', 'sqrt'],\n",
       "                         'n_estimators': [100, 200, 300]})"
      ]
     },
     "execution_count": 35,
     "metadata": {},
     "output_type": "execute_result"
    }
   ],
   "source": [
    "gs = GridSearchCV(estimator=RandomForestClassifier(), n_jobs=2,\n",
    "             param_grid={'criterion': ['gini', 'entropy'],\n",
    "                         'max_depth': [10, 20, None],\n",
    "                         'max_features': ['auto', 'sqrt'],\n",
    "                         'n_estimators': [100, 200, 300]})\n",
    "gs.fit(X_train, y_train)"
   ]
  },
  {
   "cell_type": "code",
   "execution_count": 36,
   "id": "958c4b71-e950-492a-aa2a-513b473f037e",
   "metadata": {},
   "outputs": [
    {
     "data": {
      "text/plain": [
       "0.6128879998297547"
      ]
     },
     "execution_count": 36,
     "metadata": {},
     "output_type": "execute_result"
    }
   ],
   "source": [
    "gs.best_score_"
   ]
  },
  {
   "cell_type": "code",
   "execution_count": 37,
   "id": "ce0e1a04-ff25-4804-a94b-473fb412a92f",
   "metadata": {},
   "outputs": [
    {
     "data": {
      "text/plain": [
       "{'criterion': 'gini',\n",
       " 'max_depth': 20,\n",
       " 'max_features': 'sqrt',\n",
       " 'n_estimators': 100}"
      ]
     },
     "execution_count": 37,
     "metadata": {},
     "output_type": "execute_result"
    }
   ],
   "source": [
    "gs.best_params_"
   ]
  },
  {
   "cell_type": "markdown",
   "id": "a2d40fd7-bb61-457a-8050-a9e3787cb2c3",
   "metadata": {},
   "source": [
    "#### Metrics for the ML models"
   ]
  },
  {
   "cell_type": "markdown",
   "id": "674843ac-8c5b-4917-a6bf-ae82eba56f4d",
   "metadata": {},
   "source": [
    "As we have seen above, the best model for our classification model tunrned out to be a Random Forest classifier. The best scores we got from the gridsearchCV is 0.60 with the parameter n_estimator = 15. KNN model comparative have lesser accuracy."
   ]
  },
  {
   "cell_type": "markdown",
   "id": "426a68ff-2e22-45c8-b9df-69ef67fb31c3",
   "metadata": {},
   "source": [
    "Accuracy and F1-score are the most common metrics used for the classification model involving multiple classes."
   ]
  },
  {
   "cell_type": "markdown",
   "id": "beaf9dcd-7c10-4670-b4f0-0d7062a4982b",
   "metadata": {},
   "source": [
    "with RandomForest classifier our accuracy score is 61% and F1-score is also 61% on the test set."
   ]
  },
  {
   "cell_type": "markdown",
   "id": "f3ed773c-3684-4c75-b70e-8d2ef152a8f0",
   "metadata": {},
   "source": [
    "#### Overfitting??"
   ]
  },
  {
   "cell_type": "markdown",
   "id": "03e39b0d-8f35-4351-96fc-3eb53b9dacaa",
   "metadata": {},
   "source": [
    "Like we have seen in above steps, along with the test set we have created a validation set as well. Both the models RandomForest and KNN perform equally well on test as well as validation set. Since RandomForest is the best model for our problem, it is found with RandomForest classfier that the accuracy score is 61% ad F1 score too is 61%. The model does not seem to be overfitting. We are good here."
   ]
  },
  {
   "cell_type": "markdown",
   "id": "0b73e1ef-f336-435e-aace-100231fbf60b",
   "metadata": {},
   "source": [
    "***Summary***\n",
    "\n",
    "- Accuracy: 60%\n",
    "- Model Performance: The model correctly predicts the target outcome 60% of the time on unseen data.\n",
    "- Interpretation: The model's predictions are better than random guessing, but there is room for improvement.\n",
    "- Use Cases: The model may be useful in some scenarios, but its performance may not be sufficient for critical or high-stakes applications.\n",
    "- Improvement: Consider optimizing the model by tuning hyperparameters, feature engineering, using a more complex model, or gathering more data to improve accuracy."
   ]
  },
  {
   "cell_type": "code",
   "execution_count": null,
   "id": "34911223-bb10-47b2-b9c6-46a8b167b8b6",
   "metadata": {},
   "outputs": [],
   "source": []
  }
 ],
 "metadata": {
  "kernelspec": {
   "display_name": "Python 3 (ipykernel)",
   "language": "python",
   "name": "python3"
  },
  "language_info": {
   "codemirror_mode": {
    "name": "ipython",
    "version": 3
   },
   "file_extension": ".py",
   "mimetype": "text/x-python",
   "name": "python",
   "nbconvert_exporter": "python",
   "pygments_lexer": "ipython3",
   "version": "3.12.3"
  }
 },
 "nbformat": 4,
 "nbformat_minor": 5
}
